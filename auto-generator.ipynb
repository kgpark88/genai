{
 "cells": [
  {
   "cell_type": "markdown",
   "id": "6ca8f614",
   "metadata": {},
   "source": [
    "# PowerPoint Auto Generator"
   ]
  },
  {
   "cell_type": "markdown",
   "id": "3102c346-f66c-4e51-be1f-2a6a7d5462ca",
   "metadata": {},
   "source": [
    "### python-pptx 설치"
   ]
  },
  {
   "cell_type": "code",
   "execution_count": 4,
   "id": "1ed967bd-63d6-4971-914b-38e47e56ea95",
   "metadata": {},
   "outputs": [
    {
     "name": "stdout",
     "output_type": "stream",
     "text": [
      "Requirement already satisfied: langchain in d:\\강의자료\\생성형ai로ai애플리케이션개발하기\\py311\\lib\\site-packages (0.1.8)\n",
      "Requirement already satisfied: langchain-openai in d:\\강의자료\\생성형ai로ai애플리케이션개발하기\\py311\\lib\\site-packages (0.0.6)\n",
      "Collecting langchain-community==0.0.19\n",
      "  Using cached langchain_community-0.0.19-py3-none-any.whl.metadata (7.9 kB)\n",
      "Requirement already satisfied: python-pptx in d:\\강의자료\\생성형ai로ai애플리케이션개발하기\\py311\\lib\\site-packages (0.6.23)\n",
      "Requirement already satisfied: PyYAML>=5.3 in d:\\강의자료\\생성형ai로ai애플리케이션개발하기\\py311\\lib\\site-packages (from langchain-community==0.0.19) (6.0.1)\n",
      "Requirement already satisfied: SQLAlchemy<3,>=1.4 in d:\\강의자료\\생성형ai로ai애플리케이션개발하기\\py311\\lib\\site-packages (from langchain-community==0.0.19) (2.0.16)\n",
      "Requirement already satisfied: aiohttp<4.0.0,>=3.8.3 in d:\\강의자료\\생성형ai로ai애플리케이션개발하기\\py311\\lib\\site-packages (from langchain-community==0.0.19) (3.8.4)\n",
      "Requirement already satisfied: dataclasses-json<0.7,>=0.5.7 in d:\\강의자료\\생성형ai로ai애플리케이션개발하기\\py311\\lib\\site-packages (from langchain-community==0.0.19) (0.6.4)\n",
      "Requirement already satisfied: langchain-core<0.2,>=0.1.21 in d:\\강의자료\\생성형ai로ai애플리케이션개발하기\\py311\\lib\\site-packages (from langchain-community==0.0.19) (0.1.24)\n",
      "Collecting langsmith<0.1,>=0.0.83 (from langchain-community==0.0.19)\n",
      "  Using cached langsmith-0.0.92-py3-none-any.whl.metadata (9.9 kB)\n",
      "Requirement already satisfied: numpy<2,>=1 in d:\\강의자료\\생성형ai로ai애플리케이션개발하기\\py311\\lib\\site-packages (from langchain-community==0.0.19) (1.24.3)\n",
      "Requirement already satisfied: requests<3,>=2 in d:\\강의자료\\생성형ai로ai애플리케이션개발하기\\py311\\lib\\site-packages (from langchain-community==0.0.19) (2.31.0)\n",
      "Requirement already satisfied: tenacity<9.0.0,>=8.1.0 in d:\\강의자료\\생성형ai로ai애플리케이션개발하기\\py311\\lib\\site-packages (from langchain-community==0.0.19) (8.2.3)\n",
      "Requirement already satisfied: jsonpatch<2.0,>=1.33 in d:\\강의자료\\생성형ai로ai애플리케이션개발하기\\py311\\lib\\site-packages (from langchain) (1.33)\n",
      "INFO: pip is looking at multiple versions of langchain to determine which version is compatible with other requirements. This could take a while.\n",
      "Collecting langchain\n",
      "  Using cached langchain-0.1.7-py3-none-any.whl.metadata (13 kB)\n",
      "  Using cached langchain-0.1.6-py3-none-any.whl.metadata (13 kB)\n",
      "Requirement already satisfied: pydantic<3,>=1 in d:\\강의자료\\생성형ai로ai애플리케이션개발하기\\py311\\lib\\site-packages (from langchain) (2.6.1)\n",
      "Requirement already satisfied: openai<2.0.0,>=1.10.0 in d:\\강의자료\\생성형ai로ai애플리케이션개발하기\\py311\\lib\\site-packages (from langchain-openai) (1.12.0)\n",
      "Requirement already satisfied: tiktoken<1,>=0.5.2 in d:\\강의자료\\생성형ai로ai애플리케이션개발하기\\py311\\lib\\site-packages (from langchain-openai) (0.6.0)\n",
      "Requirement already satisfied: lxml>=3.1.0 in d:\\강의자료\\생성형ai로ai애플리케이션개발하기\\py311\\lib\\site-packages (from python-pptx) (4.9.2)\n",
      "Requirement already satisfied: Pillow>=3.3.2 in d:\\강의자료\\생성형ai로ai애플리케이션개발하기\\py311\\lib\\site-packages (from python-pptx) (9.5.0)\n",
      "Requirement already satisfied: XlsxWriter>=0.5.7 in d:\\강의자료\\생성형ai로ai애플리케이션개발하기\\py311\\lib\\site-packages (from python-pptx) (3.1.2)\n",
      "Requirement already satisfied: attrs>=17.3.0 in d:\\강의자료\\생성형ai로ai애플리케이션개발하기\\py311\\lib\\site-packages (from aiohttp<4.0.0,>=3.8.3->langchain-community==0.0.19) (23.1.0)\n",
      "Requirement already satisfied: charset-normalizer<4.0,>=2.0 in d:\\강의자료\\생성형ai로ai애플리케이션개발하기\\py311\\lib\\site-packages (from aiohttp<4.0.0,>=3.8.3->langchain-community==0.0.19) (3.1.0)\n",
      "Requirement already satisfied: multidict<7.0,>=4.5 in d:\\강의자료\\생성형ai로ai애플리케이션개발하기\\py311\\lib\\site-packages (from aiohttp<4.0.0,>=3.8.3->langchain-community==0.0.19) (6.0.4)\n",
      "Requirement already satisfied: async-timeout<5.0,>=4.0.0a3 in d:\\강의자료\\생성형ai로ai애플리케이션개발하기\\py311\\lib\\site-packages (from aiohttp<4.0.0,>=3.8.3->langchain-community==0.0.19) (4.0.2)\n",
      "Requirement already satisfied: yarl<2.0,>=1.0 in d:\\강의자료\\생성형ai로ai애플리케이션개발하기\\py311\\lib\\site-packages (from aiohttp<4.0.0,>=3.8.3->langchain-community==0.0.19) (1.9.2)\n",
      "Requirement already satisfied: frozenlist>=1.1.1 in d:\\강의자료\\생성형ai로ai애플리케이션개발하기\\py311\\lib\\site-packages (from aiohttp<4.0.0,>=3.8.3->langchain-community==0.0.19) (1.3.3)\n",
      "Requirement already satisfied: aiosignal>=1.1.2 in d:\\강의자료\\생성형ai로ai애플리케이션개발하기\\py311\\lib\\site-packages (from aiohttp<4.0.0,>=3.8.3->langchain-community==0.0.19) (1.3.1)\n",
      "Requirement already satisfied: marshmallow<4.0.0,>=3.18.0 in d:\\강의자료\\생성형ai로ai애플리케이션개발하기\\py311\\lib\\site-packages (from dataclasses-json<0.7,>=0.5.7->langchain-community==0.0.19) (3.20.2)\n",
      "Requirement already satisfied: typing-inspect<1,>=0.4.0 in d:\\강의자료\\생성형ai로ai애플리케이션개발하기\\py311\\lib\\site-packages (from dataclasses-json<0.7,>=0.5.7->langchain-community==0.0.19) (0.9.0)\n",
      "Requirement already satisfied: jsonpointer>=1.9 in d:\\강의자료\\생성형ai로ai애플리케이션개발하기\\py311\\lib\\site-packages (from jsonpatch<2.0,>=1.33->langchain) (2.4)\n",
      "Requirement already satisfied: anyio<5,>=3 in d:\\강의자료\\생성형ai로ai애플리케이션개발하기\\py311\\lib\\site-packages (from langchain-core<0.2,>=0.1.21->langchain-community==0.0.19) (4.3.0)\n",
      "INFO: pip is looking at multiple versions of langchain-core to determine which version is compatible with other requirements. This could take a while.\n",
      "Collecting langchain-core<0.2,>=0.1.21 (from langchain-community==0.0.19)\n",
      "  Using cached langchain_core-0.1.23-py3-none-any.whl.metadata (6.0 kB)\n",
      "Collecting langsmith<0.1,>=0.0.83 (from langchain-community==0.0.19)\n",
      "  Using cached langsmith-0.0.87-py3-none-any.whl.metadata (10 kB)\n",
      "Requirement already satisfied: packaging<24.0,>=23.2 in d:\\강의자료\\생성형ai로ai애플리케이션개발하기\\py311\\lib\\site-packages (from langchain-core<0.2,>=0.1.21->langchain-community==0.0.19) (23.2)\n",
      "Requirement already satisfied: distro<2,>=1.7.0 in d:\\강의자료\\생성형ai로ai애플리케이션개발하기\\py311\\lib\\site-packages (from openai<2.0.0,>=1.10.0->langchain-openai) (1.9.0)\n",
      "Requirement already satisfied: httpx<1,>=0.23.0 in d:\\강의자료\\생성형ai로ai애플리케이션개발하기\\py311\\lib\\site-packages (from openai<2.0.0,>=1.10.0->langchain-openai) (0.26.0)\n",
      "Requirement already satisfied: sniffio in d:\\강의자료\\생성형ai로ai애플리케이션개발하기\\py311\\lib\\site-packages (from openai<2.0.0,>=1.10.0->langchain-openai) (1.3.0)\n",
      "Requirement already satisfied: tqdm>4 in d:\\강의자료\\생성형ai로ai애플리케이션개발하기\\py311\\lib\\site-packages (from openai<2.0.0,>=1.10.0->langchain-openai) (4.65.0)\n",
      "Requirement already satisfied: typing-extensions<5,>=4.7 in d:\\강의자료\\생성형ai로ai애플리케이션개발하기\\py311\\lib\\site-packages (from openai<2.0.0,>=1.10.0->langchain-openai) (4.9.0)\n",
      "Requirement already satisfied: annotated-types>=0.4.0 in d:\\강의자료\\생성형ai로ai애플리케이션개발하기\\py311\\lib\\site-packages (from pydantic<3,>=1->langchain) (0.6.0)\n",
      "Requirement already satisfied: pydantic-core==2.16.2 in d:\\강의자료\\생성형ai로ai애플리케이션개발하기\\py311\\lib\\site-packages (from pydantic<3,>=1->langchain) (2.16.2)\n",
      "Requirement already satisfied: idna<4,>=2.5 in d:\\강의자료\\생성형ai로ai애플리케이션개발하기\\py311\\lib\\site-packages (from requests<3,>=2->langchain-community==0.0.19) (3.4)\n",
      "Requirement already satisfied: urllib3<3,>=1.21.1 in d:\\강의자료\\생성형ai로ai애플리케이션개발하기\\py311\\lib\\site-packages (from requests<3,>=2->langchain-community==0.0.19) (2.0.3)\n",
      "Requirement already satisfied: certifi>=2017.4.17 in d:\\강의자료\\생성형ai로ai애플리케이션개발하기\\py311\\lib\\site-packages (from requests<3,>=2->langchain-community==0.0.19) (2023.5.7)\n",
      "Requirement already satisfied: greenlet!=0.4.17 in d:\\강의자료\\생성형ai로ai애플리케이션개발하기\\py311\\lib\\site-packages (from SQLAlchemy<3,>=1.4->langchain-community==0.0.19) (2.0.2)\n",
      "Requirement already satisfied: regex>=2022.1.18 in d:\\강의자료\\생성형ai로ai애플리케이션개발하기\\py311\\lib\\site-packages (from tiktoken<1,>=0.5.2->langchain-openai) (2023.6.3)\n",
      "Requirement already satisfied: httpcore==1.* in d:\\강의자료\\생성형ai로ai애플리케이션개발하기\\py311\\lib\\site-packages (from httpx<1,>=0.23.0->openai<2.0.0,>=1.10.0->langchain-openai) (1.0.3)\n",
      "Requirement already satisfied: h11<0.15,>=0.13 in d:\\강의자료\\생성형ai로ai애플리케이션개발하기\\py311\\lib\\site-packages (from httpcore==1.*->httpx<1,>=0.23.0->openai<2.0.0,>=1.10.0->langchain-openai) (0.14.0)\n",
      "Requirement already satisfied: colorama in d:\\강의자료\\생성형ai로ai애플리케이션개발하기\\py311\\lib\\site-packages (from tqdm>4->openai<2.0.0,>=1.10.0->langchain-openai) (0.4.6)\n",
      "Requirement already satisfied: mypy-extensions>=0.3.0 in d:\\강의자료\\생성형ai로ai애플리케이션개발하기\\py311\\lib\\site-packages (from typing-inspect<1,>=0.4.0->dataclasses-json<0.7,>=0.5.7->langchain-community==0.0.19) (1.0.0)\n",
      "Using cached langchain_community-0.0.19-py3-none-any.whl (1.6 MB)\n",
      "Using cached langchain-0.1.6-py3-none-any.whl (811 kB)\n",
      "Using cached langchain_core-0.1.23-py3-none-any.whl (241 kB)\n",
      "Using cached langsmith-0.0.87-py3-none-any.whl (55 kB)\n",
      "Installing collected packages: langsmith, langchain-core, langchain-community, langchain\n",
      "  Attempting uninstall: langsmith\n",
      "    Found existing installation: langsmith 0.1.3\n",
      "    Uninstalling langsmith-0.1.3:\n",
      "      Successfully uninstalled langsmith-0.1.3\n",
      "  Attempting uninstall: langchain-core\n",
      "    Found existing installation: langchain-core 0.1.24\n",
      "    Uninstalling langchain-core-0.1.24:\n",
      "      Successfully uninstalled langchain-core-0.1.24\n",
      "  Attempting uninstall: langchain-community\n",
      "    Found existing installation: langchain-community 0.0.21\n",
      "    Uninstalling langchain-community-0.0.21:\n",
      "      Successfully uninstalled langchain-community-0.0.21\n",
      "  Attempting uninstall: langchain\n",
      "    Found existing installation: langchain 0.1.8\n",
      "    Uninstalling langchain-0.1.8:\n",
      "      Successfully uninstalled langchain-0.1.8\n",
      "Successfully installed langchain-0.1.6 langchain-community-0.0.19 langchain-core-0.1.23 langsmith-0.0.87\n",
      "Note: you may need to restart the kernel to use updated packages.\n"
     ]
    }
   ],
   "source": [
    "%pip install langchain langchain-openai langchain-community==0.0.19 python-pptx"
   ]
  },
  {
   "cell_type": "markdown",
   "id": "4e08d6ed",
   "metadata": {},
   "source": [
    "### 라이브러리 임포트"
   ]
  },
  {
   "cell_type": "code",
   "execution_count": 5,
   "id": "33d85560",
   "metadata": {},
   "outputs": [],
   "source": [
    "import os\n",
    "import json\n",
    "import requests\n",
    "from pptx import Presentation\n",
    "from langchain_openai import ChatOpenAI\n",
    "from langchain_core.prompts import (\n",
    "    ChatPromptTemplate,\n",
    "    SystemMessagePromptTemplate,\n",
    "    HumanMessagePromptTemplate\n",
    ")"
   ]
  },
  {
   "cell_type": "markdown",
   "id": "fd8dcbdb",
   "metadata": {},
   "source": [
    "### API Key 설정"
   ]
  },
  {
   "cell_type": "code",
   "execution_count": 19,
   "id": "182603b8-50e5-448c-90b3-333d7243662c",
   "metadata": {},
   "outputs": [],
   "source": [
    "# os.environ[\"OPENAI_API_KEY\"] = \"<YOUR-OPENAI-API-KEY>\"\n",
    "# os.environ[\"LANGCHAIN_API_KEY\"] = \"<YOUR-LANGCHAIN-API-KEY>\""
   ]
  },
  {
   "cell_type": "markdown",
   "id": "ed951904",
   "metadata": {},
   "source": [
    "### ChatModel 객체 생성"
   ]
  },
  {
   "cell_type": "code",
   "execution_count": 10,
   "id": "f5aa8440",
   "metadata": {},
   "outputs": [],
   "source": [
    "chat_model = ChatOpenAI()"
   ]
  },
  {
   "cell_type": "markdown",
   "id": "dcb0430e",
   "metadata": {},
   "source": [
    "### 사용자 정의 함수"
   ]
  },
  {
   "cell_type": "code",
   "execution_count": 11,
   "id": "54709871-5672-4f2d-a6a7-a026cf263f23",
   "metadata": {},
   "outputs": [],
   "source": [
    "def parse_response(response):\n",
    "    slides = response.split('\\n\\n')\n",
    "    slides_content = []\n",
    "    \n",
    "    for slide in slides:\n",
    "        lines = slide.split('\\n')\n",
    "        title_line = lines[0]\n",
    "        if ': ' in title_line:\n",
    "            title = title_line.split(': ', 1)[1]  # Extract the title after 'Slide X: '\n",
    "        else:\n",
    "            title = title_line\n",
    "            \n",
    "        content_lines = [line.replace('- ', '') for line in lines[1:] if line != 'Content:']  # Skip line if it is 'Content:'\n",
    "        content = []\n",
    "        for sub_content in content_lines:\n",
    "            content.append({sub_content: sub_content})\n",
    "        \n",
    "        slides_content.append({'title': title, 'content': content})\n",
    "    return slides_content"
   ]
  },
  {
   "cell_type": "code",
   "execution_count": 12,
   "id": "7a5c38ac",
   "metadata": {},
   "outputs": [],
   "source": [
    "def parse_content(assistant_response):\n",
    "    start_index = assistant_response.find('Slide 1')\n",
    "    end_index = assistant_response.find('EndOfDocument')\n",
    "    assistant_response = assistant_response[start_index:end_index]\n",
    "    slides_content = parse_response(assistant_response.strip())\n",
    "    slides_content = slides_content\n",
    "    return slides_content"
   ]
  },
  {
   "cell_type": "code",
   "execution_count": 13,
   "id": "bbf3d384-3028-4e5b-a649-ec9fbd8af55d",
   "metadata": {},
   "outputs": [],
   "source": [
    "def completion(doc_type, work_type, content, title):\n",
    "    system_template=\"너는 파워포인트로 {doc_type} 내용을 작성하는 assistant 이고, {work_type} 에 전문성이 높아.\"\n",
    "    system_message_prompt = SystemMessagePromptTemplate.from_template(system_template)\n",
    "    human_template=\"네가 작성해준 내용은 {content} 이야. [{title}] 에 대한 내용을 100자 내외로 문단을 구분해서 명료하게 작성해줘\"\n",
    "    human_message_prompt = HumanMessagePromptTemplate.from_template(human_template)\n",
    "    chat_prompt = ChatPromptTemplate.from_messages([system_message_prompt, human_message_prompt])\n",
    "    request = chat_prompt.format_prompt(doc_type=doc_type, work_type=work_type, content=content, title=title).to_messages()\n",
    "    result = chat_model(request)\n",
    "    return result.content"
   ]
  },
  {
   "cell_type": "code",
   "execution_count": 14,
   "id": "493f0c3a",
   "metadata": {},
   "outputs": [],
   "source": [
    "def make_content(slides_content):\n",
    "    for slide in slides_content:\n",
    "        for content in slide['content']:\n",
    "            for key in content.keys():\n",
    "                response = completion(doc_type, work_type, assistant_response, key) \n",
    "                content[key] = response\n",
    "                print(f\"Make Content : {slide['title']} - {key} -{content}\")\n",
    "    return slides_content"
   ]
  },
  {
   "cell_type": "markdown",
   "id": "c3215c78",
   "metadata": {},
   "source": [
    "### PPT  내용 생성"
   ]
  },
  {
   "cell_type": "code",
   "execution_count": 20,
   "id": "5b9bf877-274c-44bb-a61a-22db09b1e250",
   "metadata": {},
   "outputs": [
    {
     "name": "stdout",
     "output_type": "stream",
     "text": [
      "Slide 1: 프로젝트 개요\n",
      "Content:\n",
      "- 프로젝트 목적\n",
      "- 프로젝트 범위\n",
      "- 프로젝트 목표\n",
      "\n",
      "Slide 2: 현황 분석\n",
      "Content:\n",
      "- 현재 데이터 관리 시스템 분석\n",
      "- 문제점 파악\n",
      "- 개선이 필요한 부분\n",
      "\n",
      "Slide 3: 요구사항 분석\n",
      "Content:\n",
      "- 고객 요구사항 분석\n",
      "- 시스템 요구사항\n",
      "- 기능 요구사항\n",
      "\n",
      "Slide 4: 아키텍처 설계\n",
      "Content:\n",
      "- 데이터베이스 구조\n",
      "- 시스템 구성도\n",
      "- 통합 플랫폼 아키텍처\n",
      "\n",
      "Slide 5: 기술적 해결방안\n",
      "Content:\n",
      "- 데이터 통합 방법\n",
      "- 보안 및 안정성 강화 방안\n",
      "- 성능 최적화 방안\n",
      "\n",
      "Slide 6: 일정 계획\n",
      "Content:\n",
      "- 프로젝트 일정\n",
      "- 주요 마일스톤\n",
      "- 작업 일정\n",
      "\n",
      "Slide 7: 예산 산정\n",
      "Content:\n",
      "- 프로젝트 총 비용\n",
      "- 예산 산정 방법\n",
      "- 비용 분배 계획\n",
      "\n",
      "Slide 8: 이슈 및 위험관리\n",
      "Content:\n",
      "- 프로젝트 진행 중 발생할 수 있는 이슈\n",
      "- 위험 분석\n",
      "- 대응 전략\n",
      "\n",
      "Slide 9: 협업 및 의사소통 계획\n",
      "Content:\n",
      "- 프로젝트 팀 구성\n",
      "- 의사소통 도구 활용 계획\n",
      "- 회의 일정\n",
      "\n",
      "Slide 10: 추진 전략\n",
      "Content:\n",
      "- 프로젝트 추진 방안\n",
      "- 성과 평가 기준\n",
      "- 지속적인 개선 방안\n",
      "\n",
      "EndOfDocument\n"
     ]
    }
   ],
   "source": [
    "doc_type = \"제안서\"\n",
    "work_type = \"아키텍처\"\n",
    "number_of_slide = \"10\"\n",
    "presentation_title = '데이터 통합 플랫폼 구축'\n",
    "presenter_name = 'Danny'\n",
    "\n",
    "system_template=\"\"\"너는 파워포인트로 {doc_type} 내용을 작성하는 assistant 이고, {work_type} 에 전문성이 높아.\n",
    "답변 형식은 Slide X(the number of the slide): (title of the content) /n Content: /n content 이야.\n",
    "\"\"\"\n",
    "system_message_prompt = SystemMessagePromptTemplate.from_template(system_template)\n",
    "human_template=\"\"\"{project} 제안서를 파워포인트로 만들고자 해.\n",
    "파워포인트 슬라이드 장수는 {number_of_slide} 이야.\n",
    "제안서에 들어갈 컨텐츠를 알려줘.\n",
    "파워포인트 각 슬라이드의 제목은 고유해야 해.\n",
    "답변 마지막에는 EndOfDocument 를 표시해줘.\n",
    "\"\"\"\n",
    "human_message_prompt = HumanMessagePromptTemplate.from_template(human_template)\n",
    "chat_prompt = ChatPromptTemplate.from_messages([system_message_prompt, human_message_prompt])\n",
    "request = chat_prompt.format_prompt(doc_type=doc_type, work_type=work_type, project=presentation_title, number_of_slide=number_of_slide).to_messages()\n",
    "result = chat_model(request)\n",
    "assistant_response = result.content\n",
    "print(assistant_response)"
   ]
  },
  {
   "cell_type": "code",
   "execution_count": 21,
   "id": "67bcf85f-d80a-4eef-88fe-0ab1f1b0d609",
   "metadata": {
    "scrolled": true
   },
   "outputs": [
    {
     "name": "stdout",
     "output_type": "stream",
     "text": [
      "[{'title': '프로젝트 개요', 'content': [{'프로젝트 목적': '프로젝트 목적'}, {'프로젝트 범위': '프로젝트 범위'}, {'프로젝트 목표': '프로젝트 목표'}]}, {'title': '현황 분석', 'content': [{'현재 데이터 관리 시스템 분석': '현재 데이터 관리 시스템 분석'}, {'문제점 파악': '문제점 파악'}, {'개선이 필요한 부분': '개선이 필요한 부분'}]}, {'title': '요구사항 분석', 'content': [{'고객 요구사항 분석': '고객 요구사항 분석'}, {'시스템 요구사항': '시스템 요구사항'}, {'기능 요구사항': '기능 요구사항'}]}, {'title': '아키텍처 설계', 'content': [{'데이터베이스 구조': '데이터베이스 구조'}, {'시스템 구성도': '시스템 구성도'}, {'통합 플랫폼 아키텍처': '통합 플랫폼 아키텍처'}]}, {'title': '기술적 해결방안', 'content': [{'데이터 통합 방법': '데이터 통합 방법'}, {'보안 및 안정성 강화 방안': '보안 및 안정성 강화 방안'}, {'성능 최적화 방안': '성능 최적화 방안'}]}, {'title': '일정 계획', 'content': [{'프로젝트 일정': '프로젝트 일정'}, {'주요 마일스톤': '주요 마일스톤'}, {'작업 일정': '작업 일정'}]}, {'title': '예산 산정', 'content': [{'프로젝트 총 비용': '프로젝트 총 비용'}, {'예산 산정 방법': '예산 산정 방법'}, {'비용 분배 계획': '비용 분배 계획'}]}, {'title': '이슈 및 위험관리', 'content': [{'프로젝트 진행 중 발생할 수 있는 이슈': '프로젝트 진행 중 발생할 수 있는 이슈'}, {'위험 분석': '위험 분석'}, {'대응 전략': '대응 전략'}]}, {'title': '협업 및 의사소통 계획', 'content': [{'프로젝트 팀 구성': '프로젝트 팀 구성'}, {'의사소통 도구 활용 계획': '의사소통 도구 활용 계획'}, {'회의 일정': '회의 일정'}]}, {'title': '추진 전략', 'content': [{'프로젝트 추진 방안': '프로젝트 추진 방안'}, {'성과 평가 기준': '성과 평가 기준'}, {'지속적인 개선 방안': '지속적인 개선 방안'}]}]\n"
     ]
    }
   ],
   "source": [
    "slides_outline = parse_content(assistant_response)\n",
    "print(slides_outline)"
   ]
  },
  {
   "cell_type": "code",
   "execution_count": 22,
   "id": "bced1417",
   "metadata": {},
   "outputs": [
    {
     "name": "stdout",
     "output_type": "stream",
     "text": [
      "Make Content : 프로젝트 개요 - 프로젝트 목적 -{'프로젝트 목적': '프로젝트 목적은 기존 데이터 관리 시스템의 문제점을 개선하고, 효율적인 데이터 관리 및 시스템 운영을 위한 새로운 아키텍처를 설계하고 구축하는 것이다. 이를 통해 기업의 데이터 활용성과 보안성을 향상시키고, 비즈니스 프로세스를 최적화하여 기업의 경쟁력을 강화하는 것이 목표이다.'}\n",
      "Make Content : 프로젝트 개요 - 프로젝트 범위 -{'프로젝트 범위': '프로젝트 범위는 새로운 데이터 관리 시스템을 구축하고, 기존 시스템의 문제를 개선하여 데이터 통합성, 보안성, 성능을 향상시키는 것을 목표로 합니다. 이에 따라 데이터베이스 구조를 재설계하고, 시스템 구성을 개선하며, 통합 플랫폼 아키텍처를 구축하는 것이 프로젝트 범위에 포함됩니다.'}\n",
      "Make Content : 프로젝트 개요 - 프로젝트 목표 -{'프로젝트 목표': '프로젝트 목표:\\n- 고객 데이터 관리 시스템을 효율적으로 구축하여 데이터 접근성과 보안성을 향상시키고, 실시간 데이터 처리 및 분석을 가능케 하여 업무 프로세스를 최적화한다. 데이터의 정확성과 신속한 처리를 보장하여 고객 서비스 품질을 향상시키는 것을 목표로 한다.'}\n",
      "Make Content : 현황 분석 - 현재 데이터 관리 시스템 분석 -{'현재 데이터 관리 시스템 분석': '현재 데이터 관리 시스템은 분산된 데이터베이스를 사용하며 업무 프로세스 간의 연계가 부족합니다. 이로 인해 실시간 데이터 공유가 어려우며 중복된 데이터 발생이 잦습니다. 또한 보안 문제로 인해 데이터 무결성을 보장하기 어렵고, 확장성과 성능에 제약이 있습니다. 이에 개선이 필요한 부분은 데이터 일원화, 보안 강화, 성능 최적화, 데이터 품질 향상 등이 있습니다.'}\n",
      "Make Content : 현황 분석 - 문제점 파악 -{'문제점 파악': '[문제점 파악]\\n현황 분석을 통해 데이터 관리 시스템의 확장성 부족, 데이터 무결성 문제, 사용자 경험 부족 등의 문제가 드러났습니다. 이로 인해 업무 효율성 저하, 보안 취약점 증가, 신속한 의사결정 불가능 등의 문제가 발생하고 있습니다.'}\n",
      "Make Content : 현황 분석 - 개선이 필요한 부분 -{'개선이 필요한 부분': '개선이 필요한 부분:\\n- 현 데이터 관리 시스템의 복잡성 및 효율성 부족\\n- 데이터 통합 및 보안에 대한 취약점\\n- 기술적 해결방안과 일정, 예산 등의 관리 필요.'}\n",
      "Make Content : 요구사항 분석 - 고객 요구사항 분석 -{'고객 요구사항 분석': '[고객 요구사항 분석]은 프로젝트에서 고객이 요구하는 기능과 서비스를 명확히 이해하고 반영해야 합니다. 이를 위해 고객과의 원활한 커뮤니케이션을 통해 요구사항을 수집하고 분석하여 정확한 시스템 구축을 위한 기반이 마련되어야 합니다.'}\n",
      "Make Content : 요구사항 분석 - 시스템 요구사항 -{'시스템 요구사항': '시스템 요구사항은 고객 데이터의 안전한 보관과 접근을 보장하는 것이 우선이며, 사용자들이 쉽게 데이터를 입력하고 조회할 수 있는 직관적인 인터페이스가 필요합니다. 또한, 시스템은 대량의 데이터를 효율적으로 처리하고 분석할 수 있어야 하며, 확장성과 성능에 대한 요구도 고려해야 합니다.'}\n",
      "Make Content : 요구사항 분석 - 기능 요구사항 -{'기능 요구사항': '기능 요구사항은 사용자가 데이터를 쉽게 검색하고 필요한 정보를 확인할 수 있어야 하며, 데이터의 신속한 업데이트와 정확성이 보장되어야 합니다. 또한 시스템은 사용자 인터페이스가 직관적이고 사용자 친화적이어야 합니다.'}\n",
      "Make Content : 아키텍처 설계 - 데이터베이스 구조 -{'데이터베이스 구조': '데이터베이스 구조는 프로젝트에서 사용되는 데이터의 구성과 관계를 정의하는 핵심 요소입니다. 이는 테이블, 열, 키, 제약 조건 등을 포함하며, 데이터베이스가 어떻게 구성되고 관리되는지를 명확히 설명합니다. 올바른 데이터베이스 구조는 데이터의 효율적인 관리와 검색을 가능하게 하며, 시스템의 안정성과 성능을 향상시키는데 중요한 역할을 합니다.'}\n",
      "Make Content : 아키텍처 설계 - 시스템 구성도 -{'시스템 구성도': '시스템 구성도는 전체 시스템의 구성 요소들이 어떻게 상호 작용하고 연결되는지 시각적으로 나타낸 그림입니다. 이를 통해 데이터베이스, 서버, 네트워크 및 클라이언트 간의 관계와 흐름을 이해할 수 있습니다. 시스템 구성도는 프로젝트 팀과 이해관계자들에게 시스템 아키텍처를 명확하게 전달하고, 시스템의 설계와 구현에 도움을 줍니다.'}\n",
      "Make Content : 아키텍처 설계 - 통합 플랫폼 아키텍처 -{'통합 플랫폼 아키텍처': '통합 플랫폼 아키텍처는 다양한 시스템과 데이터 소스를 효율적으로 통합하여 상호 연동성을 확보하는 구조를 의미합니다. 이를 위해 API, 마이크로서비스 아키텍처 등을 활용하여 각 시스템을 연결하고 데이터 교환을 원활히 처리할 수 있는 환경을 구축합니다. 이를 통해 시스템 간의 유기적인 연결과 데이터 흐름을 보장하여 전체 시스템의 효율성을 높일 수 있습니다.'}\n",
      "Make Content : 기술적 해결방안 - 데이터 통합 방법 -{'데이터 통합 방법': '[데이터 통합 방법]에 대한 내용을 다음과 같이 100자 내외로 요약해 드립니다.\\n\\n데이터 통합을 위해 ETL(추출, 변환, 적재) 프로세스를 도입하여 다양한 소스에서 데이터를 추출하고, 일관된 형식으로 변환한 뒤 목적지 시스템에 적재하는 방법을 활용할 것입니다. 또한 API를 활용하여 시스템 간 데이터 통신을 원활히 하고, 데이터 품질을 유지하기 위해 데이터 품질 관리 도구를 도입할 예정입니다.'}\n",
      "Make Content : 기술적 해결방안 - 보안 및 안정성 강화 방안 -{'보안 및 안정성 강화 방안': '[보안 및 안정성 강화 방안]에 대한 내용을 100자 내외로 구분하여 작성해보겠습니다.\\n\\n1. 데이터 암호화: 민감한 데이터 암호화를 통해 정보 유출 방지\\n2. 접근 제어 강화: 사용자 권한에 따른 접근 제어 강화\\n3. 취약점 관리: 주기적인 취약점 스캔 및 보안 업데이트 시스템 도입\\n4. 백업 및 복구 전략: 데이터 백업 및 복구 시스템 구축 및 테스트 계획 수립'}\n",
      "Make Content : 기술적 해결방안 - 성능 최적화 방안 -{'성능 최적화 방안': '성능 최적화를 위해 데이터베이스 쿼리 최적화, 캐싱 기법 도입, 서버 부하 분산을 고려할 것이다. 데이터베이스 쿼리 최적화는 빠른 데이터 접근을 통해 응답 시간을 단축하고, 캐싱 기법은 빈번한 데이터 접근을 줄여 성능을 향상시킬 것이며, 서버 부하 분산은 트래픽 분산으로 안정성과 성능을 개선할 수 있을 것이다.'}\n",
      "Make Content : 일정 계획 - 프로젝트 일정 -{'프로젝트 일정': '프로젝트 일정은 총 6개월로 계획되어 있습니다. 주요 마일스톤은 1달, 3달, 5달에 있으며, 작업 일정은 각 팀원의 역할과 작업 범위에 맞게 세분화되어 있습니다. 프로젝트 시작부터 완료까지의 과정이 명확히 정의되어 있어, 효율적이고 체계적인 일정 관리가 가능합니다.'}\n",
      "Make Content : 일정 계획 - 주요 마일스톤 -{'주요 마일스톤': '주요 마일스톤은 다음과 같습니다:\\n1. 요구사항 분석 완료 및 승인\\n2. 아키텍처 설계 완료\\n3. 데이터 통합 방법 확정\\n4. 개발 및 구현 시작\\n5. 보안 및 안정성 강화 완료\\n6. 시스템 테스트 및 검증\\n7. 프로젝트 완료 및 운영 시작\\n8. 지속적인 개선 및 유지보수 시작\\n\\n마일스톤은 프로젝트의 중요한 단계를 나타내며, 각 단계의 완료 및 승인이 프로젝트의 진행을 보장합니다.'}\n",
      "Make Content : 일정 계획 - 작업 일정 -{'작업 일정': '프로젝트 일정은 총 6개월로 구성되며, 분석 및 설계 단계는 2개월, 개발 및 구현 단계는 3개월, 테스트 및 최적화 단계는 1개월이 할당되어 있습니다. 각 단계별로 주간 회의와 주기적인 업데이트를 통해 일정을 준수하며, 주요 마일스톤은 각 단계의 완료와 품질 검수입니다.'}\n",
      "Make Content : 예산 산정 - 프로젝트 총 비용 -{'프로젝트 총 비용': '프로젝트 총 비용은 하드웨어, 소프트웨어 구매 및 개발 비용, 인력 비용, 유지보수 및 교육 비용 등 다양한 요소로 구성됩니다. 이를 산정할 때에는 각 비용 항목을 세부적으로 분석하여 총 비용을 산정하며, 이를 위해 예산을 관리하고 비용 분배 계획을 세워야 합니다.'}\n",
      "Make Content : 예산 산정 - 예산 산정 방법 -{'예산 산정 방법': '예산 산정 방법은 다음과 같이 세 가지 단계로 진행됩니다. 먼저, 프로젝트에 필요한 모든 자원과 비용을 식별하고 평가합니다. 다음으로, 각 비용 항목을 세부적으로 분석하여 예산을 산정합니다. 마지막으로, 예산을 검토하고 승인하는 절차를 거쳐 최종 예산안을 확정합니다.'}\n",
      "Make Content : 예산 산정 - 비용 분배 계획 -{'비용 분배 계획': '비용 분배 계획은 다음과 같습니다. 1) 개발팀 인력 및 교육에 40% 할당, 2) 하드웨어 및 소프트웨어 구매에 30% 할당, 3) 마케팅 및 광고에 20% 할당, 4) 기타 경비에 10% 할당합니다. 이를 통해 프로젝트 예산을 효율적으로 분배하여 성공적인 프로젝트를 이끌어나갈 수 있습니다.'}\n",
      "Make Content : 이슈 및 위험관리 - 프로젝트 진행 중 발생할 수 있는 이슈 -{'프로젝트 진행 중 발생할 수 있는 이슈': '프로젝트 진행 중 발생할 수 있는 이슈에 대한 내용을 100자 내외로 작성하겠습니다.\\n\\n1. 인력 부족: 프로젝트 일정에 맞게 충분한 인력 확보가 필요하며, 업무 분담과 조정이 필요합니다.\\n2. 요구사항 변경: 고객 또는 이해관계자의 요구사항이 변경될 경우, 적시에 대응하고 변경 관리를 철저히 해야 합니다.\\n3. 기술적 문제: 시스템 구축 시 기술적 문제가 발생할 수 있으므로, 적절한 기술 지원과 대응이 필요합니다.'}\n",
      "Make Content : 이슈 및 위험관리 - 위험 분석 -{'위험 분석': '위험 분석 파트에서는 프로젝트 진행 중 발생할 수 있는 다양한 위험 요소를 식별하고, 각 위험의 발생 가능성과 영향에 대해 평가합니다. 이를 바탕으로 위험 관리 전략을 수립하여 대응 계획을 세웁니다. 위험 관리는 프로젝트의 성패를 좌우할 수 있는 중요한 요소로, 신중하고 체계적인 접근이 필요합니다.'}\n",
      "Make Content : 이슈 및 위험관리 - 대응 전략 -{'대응 전략': '대응 전략에 대한 내용을 100자 내외로 요약하면 다음과 같습니다.\\n\\n1. 이슈 대응: 프로젝트 팀은 주기적인 회의 및 업데이트를 통해 발생 가능한 이슈를 빠르게 대응할 것이다.\\n2. 위험 관리: 위험을 사전에 식별하고 대응 전략을 마련하여 예방하며, 유연하게 대처할 수 있는 방안을 마련할 것이다.'}\n",
      "Make Content : 협업 및 의사소통 계획 - 프로젝트 팀 구성 -{'프로젝트 팀 구성': '프로젝트 팀 구성은 핵심적인 부분으로, 기술 전문가, 데이터 분석가, 프로젝트 매니저 등 역할에 맞는 전문가들로 다양하게 구성될 예정입니다. 각 팀원은 자신의 분야에서 최고의 성과를 내기 위해 협력하며, 원활한 의사소통과 업무 분장을 통해 프로젝트의 성패를 좌우할 것으로 기대됩니다.'}\n",
      "Make Content : 협업 및 의사소통 계획 - 의사소통 도구 활용 계획 -{'의사소통 도구 활용 계획': '의사소통 도구 활용 계획은 효율적인 협업을 위해 Slack을 이용하여 팀원 간 실시간 대화와 업무 공유를 진행할 예정이며, 주간 회의는 Zoom을 활용하여 온라인으로 진행할 계획입니다. 또한, Google Drive를 활용하여 문서 공유 및 협업을 강화하고, 이메일을 통해 중요 사항 및 업무 일정을 공지할 예정입니다.'}\n",
      "Make Content : 협업 및 의사소통 계획 - 회의 일정 -{'회의 일정': '프로젝트 회의 일정은 매주 월요일 오전 10시에 주간 회의를 실시하고, 매일 오후 3시에는 각 부서별로 미팅을 갖습니다. 또한, 필요 시 긴급 회의를 진행할 수 있도록 유동적으로 조정할 계획입니다.'}\n",
      "Make Content : 추진 전략 - 프로젝트 추진 방안 -{'프로젝트 추진 방안': '프로젝트 추진 방안은 다음과 같습니다:\\n1. 프로젝트 팀 간 원활한 커뮤니케이션 및 업무 분담을 위해 주간 회의 및 업무 리뷰 시스템 도입\\n2. 주기적인 성과 평가로 프로젝트 진행 상황을 모니터링하고 문제점 신속히 대응\\n3. 지속적인 피드백 수렴과 개선 사항 실시하여 프로젝트 효율성 향상을 도모함'}\n",
      "Make Content : 추진 전략 - 성과 평가 기준 -{'성과 평가 기준': '성과 평가 기준은 프로젝트 완료 후 시스템 안정성, 성능 향상 정도, 사용자 만족도를 평가합니다. 또한 프로젝트 일정과 예산 대비 성과를 비교하여 프로젝트 성공을 측정하며, 추가적으로 사용자 피드백을 통해 시스템의 유용성과 효과를 측정합니다.'}\n",
      "Make Content : 추진 전략 - 지속적인 개선 방안 -{'지속적인 개선 방안': '지속적인 개선 방안에 대한 내용을 아래와 같이 작성할 수 있습니다.\\n\\n1. 주기적인 시스템 모니터링 및 성능 튜닝을 통한 지속적인 최적화\\n2. 사용자 피드백을 수집하고 분석하여 시스템 개선사항 도출\\n3. 기술 트렌드 및 업데이트에 대한 연구 및 도입 계획 수립\\n4. 정기적인 보안 감사 및 업데이트를 통한 시스템 안정성 유지\\n5. 팀원들의 교육 및 훈련을 통해 전문성 향상 및 역량 강화'}\n",
      "[{'title': '프로젝트 개요', 'content': [{'프로젝트 목적': '프로젝트 목적은 기존 데이터 관리 시스템의 문제점을 개선하고, 효율적인 데이터 관리 및 시스템 운영을 위한 새로운 아키텍처를 설계하고 구축하는 것이다. 이를 통해 기업의 데이터 활용성과 보안성을 향상시키고, 비즈니스 프로세스를 최적화하여 기업의 경쟁력을 강화하는 것이 목표이다.'}, {'프로젝트 범위': '프로젝트 범위는 새로운 데이터 관리 시스템을 구축하고, 기존 시스템의 문제를 개선하여 데이터 통합성, 보안성, 성능을 향상시키는 것을 목표로 합니다. 이에 따라 데이터베이스 구조를 재설계하고, 시스템 구성을 개선하며, 통합 플랫폼 아키텍처를 구축하는 것이 프로젝트 범위에 포함됩니다.'}, {'프로젝트 목표': '프로젝트 목표:\\n- 고객 데이터 관리 시스템을 효율적으로 구축하여 데이터 접근성과 보안성을 향상시키고, 실시간 데이터 처리 및 분석을 가능케 하여 업무 프로세스를 최적화한다. 데이터의 정확성과 신속한 처리를 보장하여 고객 서비스 품질을 향상시키는 것을 목표로 한다.'}]}, {'title': '현황 분석', 'content': [{'현재 데이터 관리 시스템 분석': '현재 데이터 관리 시스템은 분산된 데이터베이스를 사용하며 업무 프로세스 간의 연계가 부족합니다. 이로 인해 실시간 데이터 공유가 어려우며 중복된 데이터 발생이 잦습니다. 또한 보안 문제로 인해 데이터 무결성을 보장하기 어렵고, 확장성과 성능에 제약이 있습니다. 이에 개선이 필요한 부분은 데이터 일원화, 보안 강화, 성능 최적화, 데이터 품질 향상 등이 있습니다.'}, {'문제점 파악': '[문제점 파악]\\n현황 분석을 통해 데이터 관리 시스템의 확장성 부족, 데이터 무결성 문제, 사용자 경험 부족 등의 문제가 드러났습니다. 이로 인해 업무 효율성 저하, 보안 취약점 증가, 신속한 의사결정 불가능 등의 문제가 발생하고 있습니다.'}, {'개선이 필요한 부분': '개선이 필요한 부분:\\n- 현 데이터 관리 시스템의 복잡성 및 효율성 부족\\n- 데이터 통합 및 보안에 대한 취약점\\n- 기술적 해결방안과 일정, 예산 등의 관리 필요.'}]}, {'title': '요구사항 분석', 'content': [{'고객 요구사항 분석': '[고객 요구사항 분석]은 프로젝트에서 고객이 요구하는 기능과 서비스를 명확히 이해하고 반영해야 합니다. 이를 위해 고객과의 원활한 커뮤니케이션을 통해 요구사항을 수집하고 분석하여 정확한 시스템 구축을 위한 기반이 마련되어야 합니다.'}, {'시스템 요구사항': '시스템 요구사항은 고객 데이터의 안전한 보관과 접근을 보장하는 것이 우선이며, 사용자들이 쉽게 데이터를 입력하고 조회할 수 있는 직관적인 인터페이스가 필요합니다. 또한, 시스템은 대량의 데이터를 효율적으로 처리하고 분석할 수 있어야 하며, 확장성과 성능에 대한 요구도 고려해야 합니다.'}, {'기능 요구사항': '기능 요구사항은 사용자가 데이터를 쉽게 검색하고 필요한 정보를 확인할 수 있어야 하며, 데이터의 신속한 업데이트와 정확성이 보장되어야 합니다. 또한 시스템은 사용자 인터페이스가 직관적이고 사용자 친화적이어야 합니다.'}]}, {'title': '아키텍처 설계', 'content': [{'데이터베이스 구조': '데이터베이스 구조는 프로젝트에서 사용되는 데이터의 구성과 관계를 정의하는 핵심 요소입니다. 이는 테이블, 열, 키, 제약 조건 등을 포함하며, 데이터베이스가 어떻게 구성되고 관리되는지를 명확히 설명합니다. 올바른 데이터베이스 구조는 데이터의 효율적인 관리와 검색을 가능하게 하며, 시스템의 안정성과 성능을 향상시키는데 중요한 역할을 합니다.'}, {'시스템 구성도': '시스템 구성도는 전체 시스템의 구성 요소들이 어떻게 상호 작용하고 연결되는지 시각적으로 나타낸 그림입니다. 이를 통해 데이터베이스, 서버, 네트워크 및 클라이언트 간의 관계와 흐름을 이해할 수 있습니다. 시스템 구성도는 프로젝트 팀과 이해관계자들에게 시스템 아키텍처를 명확하게 전달하고, 시스템의 설계와 구현에 도움을 줍니다.'}, {'통합 플랫폼 아키텍처': '통합 플랫폼 아키텍처는 다양한 시스템과 데이터 소스를 효율적으로 통합하여 상호 연동성을 확보하는 구조를 의미합니다. 이를 위해 API, 마이크로서비스 아키텍처 등을 활용하여 각 시스템을 연결하고 데이터 교환을 원활히 처리할 수 있는 환경을 구축합니다. 이를 통해 시스템 간의 유기적인 연결과 데이터 흐름을 보장하여 전체 시스템의 효율성을 높일 수 있습니다.'}]}, {'title': '기술적 해결방안', 'content': [{'데이터 통합 방법': '[데이터 통합 방법]에 대한 내용을 다음과 같이 100자 내외로 요약해 드립니다.\\n\\n데이터 통합을 위해 ETL(추출, 변환, 적재) 프로세스를 도입하여 다양한 소스에서 데이터를 추출하고, 일관된 형식으로 변환한 뒤 목적지 시스템에 적재하는 방법을 활용할 것입니다. 또한 API를 활용하여 시스템 간 데이터 통신을 원활히 하고, 데이터 품질을 유지하기 위해 데이터 품질 관리 도구를 도입할 예정입니다.'}, {'보안 및 안정성 강화 방안': '[보안 및 안정성 강화 방안]에 대한 내용을 100자 내외로 구분하여 작성해보겠습니다.\\n\\n1. 데이터 암호화: 민감한 데이터 암호화를 통해 정보 유출 방지\\n2. 접근 제어 강화: 사용자 권한에 따른 접근 제어 강화\\n3. 취약점 관리: 주기적인 취약점 스캔 및 보안 업데이트 시스템 도입\\n4. 백업 및 복구 전략: 데이터 백업 및 복구 시스템 구축 및 테스트 계획 수립'}, {'성능 최적화 방안': '성능 최적화를 위해 데이터베이스 쿼리 최적화, 캐싱 기법 도입, 서버 부하 분산을 고려할 것이다. 데이터베이스 쿼리 최적화는 빠른 데이터 접근을 통해 응답 시간을 단축하고, 캐싱 기법은 빈번한 데이터 접근을 줄여 성능을 향상시킬 것이며, 서버 부하 분산은 트래픽 분산으로 안정성과 성능을 개선할 수 있을 것이다.'}]}, {'title': '일정 계획', 'content': [{'프로젝트 일정': '프로젝트 일정은 총 6개월로 계획되어 있습니다. 주요 마일스톤은 1달, 3달, 5달에 있으며, 작업 일정은 각 팀원의 역할과 작업 범위에 맞게 세분화되어 있습니다. 프로젝트 시작부터 완료까지의 과정이 명확히 정의되어 있어, 효율적이고 체계적인 일정 관리가 가능합니다.'}, {'주요 마일스톤': '주요 마일스톤은 다음과 같습니다:\\n1. 요구사항 분석 완료 및 승인\\n2. 아키텍처 설계 완료\\n3. 데이터 통합 방법 확정\\n4. 개발 및 구현 시작\\n5. 보안 및 안정성 강화 완료\\n6. 시스템 테스트 및 검증\\n7. 프로젝트 완료 및 운영 시작\\n8. 지속적인 개선 및 유지보수 시작\\n\\n마일스톤은 프로젝트의 중요한 단계를 나타내며, 각 단계의 완료 및 승인이 프로젝트의 진행을 보장합니다.'}, {'작업 일정': '프로젝트 일정은 총 6개월로 구성되며, 분석 및 설계 단계는 2개월, 개발 및 구현 단계는 3개월, 테스트 및 최적화 단계는 1개월이 할당되어 있습니다. 각 단계별로 주간 회의와 주기적인 업데이트를 통해 일정을 준수하며, 주요 마일스톤은 각 단계의 완료와 품질 검수입니다.'}]}, {'title': '예산 산정', 'content': [{'프로젝트 총 비용': '프로젝트 총 비용은 하드웨어, 소프트웨어 구매 및 개발 비용, 인력 비용, 유지보수 및 교육 비용 등 다양한 요소로 구성됩니다. 이를 산정할 때에는 각 비용 항목을 세부적으로 분석하여 총 비용을 산정하며, 이를 위해 예산을 관리하고 비용 분배 계획을 세워야 합니다.'}, {'예산 산정 방법': '예산 산정 방법은 다음과 같이 세 가지 단계로 진행됩니다. 먼저, 프로젝트에 필요한 모든 자원과 비용을 식별하고 평가합니다. 다음으로, 각 비용 항목을 세부적으로 분석하여 예산을 산정합니다. 마지막으로, 예산을 검토하고 승인하는 절차를 거쳐 최종 예산안을 확정합니다.'}, {'비용 분배 계획': '비용 분배 계획은 다음과 같습니다. 1) 개발팀 인력 및 교육에 40% 할당, 2) 하드웨어 및 소프트웨어 구매에 30% 할당, 3) 마케팅 및 광고에 20% 할당, 4) 기타 경비에 10% 할당합니다. 이를 통해 프로젝트 예산을 효율적으로 분배하여 성공적인 프로젝트를 이끌어나갈 수 있습니다.'}]}, {'title': '이슈 및 위험관리', 'content': [{'프로젝트 진행 중 발생할 수 있는 이슈': '프로젝트 진행 중 발생할 수 있는 이슈에 대한 내용을 100자 내외로 작성하겠습니다.\\n\\n1. 인력 부족: 프로젝트 일정에 맞게 충분한 인력 확보가 필요하며, 업무 분담과 조정이 필요합니다.\\n2. 요구사항 변경: 고객 또는 이해관계자의 요구사항이 변경될 경우, 적시에 대응하고 변경 관리를 철저히 해야 합니다.\\n3. 기술적 문제: 시스템 구축 시 기술적 문제가 발생할 수 있으므로, 적절한 기술 지원과 대응이 필요합니다.'}, {'위험 분석': '위험 분석 파트에서는 프로젝트 진행 중 발생할 수 있는 다양한 위험 요소를 식별하고, 각 위험의 발생 가능성과 영향에 대해 평가합니다. 이를 바탕으로 위험 관리 전략을 수립하여 대응 계획을 세웁니다. 위험 관리는 프로젝트의 성패를 좌우할 수 있는 중요한 요소로, 신중하고 체계적인 접근이 필요합니다.'}, {'대응 전략': '대응 전략에 대한 내용을 100자 내외로 요약하면 다음과 같습니다.\\n\\n1. 이슈 대응: 프로젝트 팀은 주기적인 회의 및 업데이트를 통해 발생 가능한 이슈를 빠르게 대응할 것이다.\\n2. 위험 관리: 위험을 사전에 식별하고 대응 전략을 마련하여 예방하며, 유연하게 대처할 수 있는 방안을 마련할 것이다.'}]}, {'title': '협업 및 의사소통 계획', 'content': [{'프로젝트 팀 구성': '프로젝트 팀 구성은 핵심적인 부분으로, 기술 전문가, 데이터 분석가, 프로젝트 매니저 등 역할에 맞는 전문가들로 다양하게 구성될 예정입니다. 각 팀원은 자신의 분야에서 최고의 성과를 내기 위해 협력하며, 원활한 의사소통과 업무 분장을 통해 프로젝트의 성패를 좌우할 것으로 기대됩니다.'}, {'의사소통 도구 활용 계획': '의사소통 도구 활용 계획은 효율적인 협업을 위해 Slack을 이용하여 팀원 간 실시간 대화와 업무 공유를 진행할 예정이며, 주간 회의는 Zoom을 활용하여 온라인으로 진행할 계획입니다. 또한, Google Drive를 활용하여 문서 공유 및 협업을 강화하고, 이메일을 통해 중요 사항 및 업무 일정을 공지할 예정입니다.'}, {'회의 일정': '프로젝트 회의 일정은 매주 월요일 오전 10시에 주간 회의를 실시하고, 매일 오후 3시에는 각 부서별로 미팅을 갖습니다. 또한, 필요 시 긴급 회의를 진행할 수 있도록 유동적으로 조정할 계획입니다.'}]}, {'title': '추진 전략', 'content': [{'프로젝트 추진 방안': '프로젝트 추진 방안은 다음과 같습니다:\\n1. 프로젝트 팀 간 원활한 커뮤니케이션 및 업무 분담을 위해 주간 회의 및 업무 리뷰 시스템 도입\\n2. 주기적인 성과 평가로 프로젝트 진행 상황을 모니터링하고 문제점 신속히 대응\\n3. 지속적인 피드백 수렴과 개선 사항 실시하여 프로젝트 효율성 향상을 도모함'}, {'성과 평가 기준': '성과 평가 기준은 프로젝트 완료 후 시스템 안정성, 성능 향상 정도, 사용자 만족도를 평가합니다. 또한 프로젝트 일정과 예산 대비 성과를 비교하여 프로젝트 성공을 측정하며, 추가적으로 사용자 피드백을 통해 시스템의 유용성과 효과를 측정합니다.'}, {'지속적인 개선 방안': '지속적인 개선 방안에 대한 내용을 아래와 같이 작성할 수 있습니다.\\n\\n1. 주기적인 시스템 모니터링 및 성능 튜닝을 통한 지속적인 최적화\\n2. 사용자 피드백을 수집하고 분석하여 시스템 개선사항 도출\\n3. 기술 트렌드 및 업데이트에 대한 연구 및 도입 계획 수립\\n4. 정기적인 보안 감사 및 업데이트를 통한 시스템 안정성 유지\\n5. 팀원들의 교육 및 훈련을 통해 전문성 향상 및 역량 강화'}]}]\n"
     ]
    }
   ],
   "source": [
    "slides_content = make_content(slides_outline)\n",
    "print(slides_content)"
   ]
  },
  {
   "cell_type": "code",
   "execution_count": 23,
   "id": "26542fe6-5998-4232-bb90-5cca0c8fd779",
   "metadata": {},
   "outputs": [
    {
     "ename": "FileNotFoundError",
     "evalue": "[Errno 2] No such file or directory: 'title.jpg'",
     "output_type": "error",
     "traceback": [
      "\u001b[1;31m---------------------------------------------------------------------------\u001b[0m",
      "\u001b[1;31mFileNotFoundError\u001b[0m                         Traceback (most recent call last)",
      "Cell \u001b[1;32mIn[23], line 7\u001b[0m\n\u001b[0;32m      5\u001b[0m \u001b[38;5;66;03m# 표지 : 0 Title 1, 13 Picture Placeholder 2, 14 Text Placeholder 3\u001b[39;00m\n\u001b[0;32m      6\u001b[0m slide \u001b[38;5;241m=\u001b[39m prs\u001b[38;5;241m.\u001b[39mslides\u001b[38;5;241m.\u001b[39madd_slide(prs\u001b[38;5;241m.\u001b[39mslide_layouts[\u001b[38;5;241m0\u001b[39m])\n\u001b[1;32m----> 7\u001b[0m \u001b[43mslide\u001b[49m\u001b[38;5;241;43m.\u001b[39;49m\u001b[43mplaceholders\u001b[49m\u001b[43m[\u001b[49m\u001b[38;5;241;43m13\u001b[39;49m\u001b[43m]\u001b[49m\u001b[38;5;241;43m.\u001b[39;49m\u001b[43minsert_picture\u001b[49m\u001b[43m(\u001b[49m\u001b[38;5;124;43m\"\u001b[39;49m\u001b[38;5;124;43mtitle.jpg\u001b[39;49m\u001b[38;5;124;43m\"\u001b[39;49m\u001b[43m)\u001b[49m\n\u001b[0;32m      8\u001b[0m slide\u001b[38;5;241m.\u001b[39mplaceholders[\u001b[38;5;241m0\u001b[39m]\u001b[38;5;241m.\u001b[39mtext \u001b[38;5;241m=\u001b[39m presentation_title\n\u001b[0;32m      9\u001b[0m slide\u001b[38;5;241m.\u001b[39mplaceholders[\u001b[38;5;241m14\u001b[39m]\u001b[38;5;241m.\u001b[39mtext \u001b[38;5;241m=\u001b[39m presenter_name\n",
      "File \u001b[1;32mD:\\강의자료\\생성형AI로AI애플리케이션개발하기\\py311\\Lib\\site-packages\\pptx\\shapes\\placeholder.py:319\u001b[0m, in \u001b[0;36mPicturePlaceholder.insert_picture\u001b[1;34m(self, image_file)\u001b[0m\n\u001b[0;32m    310\u001b[0m \u001b[38;5;28;01mdef\u001b[39;00m \u001b[38;5;21minsert_picture\u001b[39m(\u001b[38;5;28mself\u001b[39m, image_file):\n\u001b[0;32m    311\u001b[0m \u001b[38;5;250m    \u001b[39m\u001b[38;5;124;03m\"\"\"Return a |PlaceholderPicture| object depicting the image in `image_file`.\u001b[39;00m\n\u001b[0;32m    312\u001b[0m \n\u001b[0;32m    313\u001b[0m \u001b[38;5;124;03m    `image_file` may be either a path (string) or a file-like object. The image is\u001b[39;00m\n\u001b[1;32m   (...)\u001b[0m\n\u001b[0;32m    317\u001b[0m \u001b[38;5;124;03m    `MSO_SHAPE_TYPE.PLACEHOLDER` instead of `MSO_SHAPE_TYPE.PICTURE`.\u001b[39;00m\n\u001b[0;32m    318\u001b[0m \u001b[38;5;124;03m    \"\"\"\u001b[39;00m\n\u001b[1;32m--> 319\u001b[0m     pic \u001b[38;5;241m=\u001b[39m \u001b[38;5;28;43mself\u001b[39;49m\u001b[38;5;241;43m.\u001b[39;49m\u001b[43m_new_placeholder_pic\u001b[49m\u001b[43m(\u001b[49m\u001b[43mimage_file\u001b[49m\u001b[43m)\u001b[49m\n\u001b[0;32m    320\u001b[0m     \u001b[38;5;28mself\u001b[39m\u001b[38;5;241m.\u001b[39m_replace_placeholder_with(pic)\n\u001b[0;32m    321\u001b[0m     \u001b[38;5;28;01mreturn\u001b[39;00m PlaceholderPicture(pic, \u001b[38;5;28mself\u001b[39m\u001b[38;5;241m.\u001b[39m_parent)\n",
      "File \u001b[1;32mD:\\강의자료\\생성형AI로AI애플리케이션개발하기\\py311\\Lib\\site-packages\\pptx\\shapes\\placeholder.py:330\u001b[0m, in \u001b[0;36mPicturePlaceholder._new_placeholder_pic\u001b[1;34m(self, image_file)\u001b[0m\n\u001b[0;32m    323\u001b[0m \u001b[38;5;28;01mdef\u001b[39;00m \u001b[38;5;21m_new_placeholder_pic\u001b[39m(\u001b[38;5;28mself\u001b[39m, image_file):\n\u001b[0;32m    324\u001b[0m \u001b[38;5;250m    \u001b[39m\u001b[38;5;124;03m\"\"\"\u001b[39;00m\n\u001b[0;32m    325\u001b[0m \u001b[38;5;124;03m    Return a new `p:pic` element depicting the image in *image_file*,\u001b[39;00m\n\u001b[0;32m    326\u001b[0m \u001b[38;5;124;03m    suitable for use as a placeholder. In particular this means not\u001b[39;00m\n\u001b[0;32m    327\u001b[0m \u001b[38;5;124;03m    having an `a:xfrm` element, allowing its extents to be inherited from\u001b[39;00m\n\u001b[0;32m    328\u001b[0m \u001b[38;5;124;03m    its layout placeholder.\u001b[39;00m\n\u001b[0;32m    329\u001b[0m \u001b[38;5;124;03m    \"\"\"\u001b[39;00m\n\u001b[1;32m--> 330\u001b[0m     rId, desc, image_size \u001b[38;5;241m=\u001b[39m \u001b[38;5;28;43mself\u001b[39;49m\u001b[38;5;241;43m.\u001b[39;49m\u001b[43m_get_or_add_image\u001b[49m\u001b[43m(\u001b[49m\u001b[43mimage_file\u001b[49m\u001b[43m)\u001b[49m\n\u001b[0;32m    331\u001b[0m     shape_id, name \u001b[38;5;241m=\u001b[39m \u001b[38;5;28mself\u001b[39m\u001b[38;5;241m.\u001b[39mshape_id, \u001b[38;5;28mself\u001b[39m\u001b[38;5;241m.\u001b[39mname\n\u001b[0;32m    332\u001b[0m     pic \u001b[38;5;241m=\u001b[39m CT_Picture\u001b[38;5;241m.\u001b[39mnew_ph_pic(shape_id, name, desc, rId)\n",
      "File \u001b[1;32mD:\\강의자료\\생성형AI로AI애플리케이션개발하기\\py311\\Lib\\site-packages\\pptx\\shapes\\placeholder.py:341\u001b[0m, in \u001b[0;36mPicturePlaceholder._get_or_add_image\u001b[1;34m(self, image_file)\u001b[0m\n\u001b[0;32m    336\u001b[0m \u001b[38;5;28;01mdef\u001b[39;00m \u001b[38;5;21m_get_or_add_image\u001b[39m(\u001b[38;5;28mself\u001b[39m, image_file):\n\u001b[0;32m    337\u001b[0m \u001b[38;5;250m    \u001b[39m\u001b[38;5;124;03m\"\"\"\u001b[39;00m\n\u001b[0;32m    338\u001b[0m \u001b[38;5;124;03m    Return an (rId, description, image_size) 3-tuple identifying the\u001b[39;00m\n\u001b[0;32m    339\u001b[0m \u001b[38;5;124;03m    related image part containing *image_file* and describing the image.\u001b[39;00m\n\u001b[0;32m    340\u001b[0m \u001b[38;5;124;03m    \"\"\"\u001b[39;00m\n\u001b[1;32m--> 341\u001b[0m     image_part, rId \u001b[38;5;241m=\u001b[39m \u001b[38;5;28;43mself\u001b[39;49m\u001b[38;5;241;43m.\u001b[39;49m\u001b[43mpart\u001b[49m\u001b[38;5;241;43m.\u001b[39;49m\u001b[43mget_or_add_image_part\u001b[49m\u001b[43m(\u001b[49m\u001b[43mimage_file\u001b[49m\u001b[43m)\u001b[49m\n\u001b[0;32m    342\u001b[0m     desc, image_size \u001b[38;5;241m=\u001b[39m image_part\u001b[38;5;241m.\u001b[39mdesc, image_part\u001b[38;5;241m.\u001b[39m_px_size\n\u001b[0;32m    343\u001b[0m     \u001b[38;5;28;01mreturn\u001b[39;00m rId, desc, image_size\n",
      "File \u001b[1;32mD:\\강의자료\\생성형AI로AI애플리케이션개발하기\\py311\\Lib\\site-packages\\pptx\\parts\\slide.py:39\u001b[0m, in \u001b[0;36mBaseSlidePart.get_or_add_image_part\u001b[1;34m(self, image_file)\u001b[0m\n\u001b[0;32m     32\u001b[0m \u001b[38;5;28;01mdef\u001b[39;00m \u001b[38;5;21mget_or_add_image_part\u001b[39m(\u001b[38;5;28mself\u001b[39m, image_file):\n\u001b[0;32m     33\u001b[0m \u001b[38;5;250m    \u001b[39m\u001b[38;5;124;03m\"\"\"Return `(image_part, rId)` pair corresponding to `image_file`.\u001b[39;00m\n\u001b[0;32m     34\u001b[0m \n\u001b[0;32m     35\u001b[0m \u001b[38;5;124;03m    The returned |ImagePart| object contains the image in `image_file` and is\u001b[39;00m\n\u001b[0;32m     36\u001b[0m \u001b[38;5;124;03m    related to this slide with the key `rId`. If either the image part or\u001b[39;00m\n\u001b[0;32m     37\u001b[0m \u001b[38;5;124;03m    relationship already exists, they are reused, otherwise they are newly created.\u001b[39;00m\n\u001b[0;32m     38\u001b[0m \u001b[38;5;124;03m    \"\"\"\u001b[39;00m\n\u001b[1;32m---> 39\u001b[0m     image_part \u001b[38;5;241m=\u001b[39m \u001b[38;5;28;43mself\u001b[39;49m\u001b[38;5;241;43m.\u001b[39;49m\u001b[43m_package\u001b[49m\u001b[38;5;241;43m.\u001b[39;49m\u001b[43mget_or_add_image_part\u001b[49m\u001b[43m(\u001b[49m\u001b[43mimage_file\u001b[49m\u001b[43m)\u001b[49m\n\u001b[0;32m     40\u001b[0m     rId \u001b[38;5;241m=\u001b[39m \u001b[38;5;28mself\u001b[39m\u001b[38;5;241m.\u001b[39mrelate_to(image_part, RT\u001b[38;5;241m.\u001b[39mIMAGE)\n\u001b[0;32m     41\u001b[0m     \u001b[38;5;28;01mreturn\u001b[39;00m image_part, rId\n",
      "File \u001b[1;32mD:\\강의자료\\생성형AI로AI애플리케이션개발하기\\py311\\Lib\\site-packages\\pptx\\package.py:36\u001b[0m, in \u001b[0;36mPackage.get_or_add_image_part\u001b[1;34m(self, image_file)\u001b[0m\n\u001b[0;32m     30\u001b[0m \u001b[38;5;28;01mdef\u001b[39;00m \u001b[38;5;21mget_or_add_image_part\u001b[39m(\u001b[38;5;28mself\u001b[39m, image_file):\n\u001b[0;32m     31\u001b[0m \u001b[38;5;250m    \u001b[39m\u001b[38;5;124;03m\"\"\"\u001b[39;00m\n\u001b[0;32m     32\u001b[0m \u001b[38;5;124;03m    Return an |ImagePart| object containing the image in *image_file*. If\u001b[39;00m\n\u001b[0;32m     33\u001b[0m \u001b[38;5;124;03m    the image part already exists in this package, it is reused,\u001b[39;00m\n\u001b[0;32m     34\u001b[0m \u001b[38;5;124;03m    otherwise a new one is created.\u001b[39;00m\n\u001b[0;32m     35\u001b[0m \u001b[38;5;124;03m    \"\"\"\u001b[39;00m\n\u001b[1;32m---> 36\u001b[0m     \u001b[38;5;28;01mreturn\u001b[39;00m \u001b[38;5;28;43mself\u001b[39;49m\u001b[38;5;241;43m.\u001b[39;49m\u001b[43m_image_parts\u001b[49m\u001b[38;5;241;43m.\u001b[39;49m\u001b[43mget_or_add_image_part\u001b[49m\u001b[43m(\u001b[49m\u001b[43mimage_file\u001b[49m\u001b[43m)\u001b[49m\n",
      "File \u001b[1;32mD:\\강의자료\\생성형AI로AI애플리케이션개발하기\\py311\\Lib\\site-packages\\pptx\\package.py:153\u001b[0m, in \u001b[0;36m_ImageParts.get_or_add_image_part\u001b[1;34m(self, image_file)\u001b[0m\n\u001b[0;32m    146\u001b[0m \u001b[38;5;28;01mdef\u001b[39;00m \u001b[38;5;21mget_or_add_image_part\u001b[39m(\u001b[38;5;28mself\u001b[39m, image_file):\n\u001b[0;32m    147\u001b[0m \u001b[38;5;250m    \u001b[39m\u001b[38;5;124;03m\"\"\"Return |ImagePart| object containing the image in `image_file`.\u001b[39;00m\n\u001b[0;32m    148\u001b[0m \n\u001b[0;32m    149\u001b[0m \u001b[38;5;124;03m    `image_file` can be either a path to an image file or a file-like object\u001b[39;00m\n\u001b[0;32m    150\u001b[0m \u001b[38;5;124;03m    containing an image. If an image part containing this same image already exists,\u001b[39;00m\n\u001b[0;32m    151\u001b[0m \u001b[38;5;124;03m    that instance is returned, otherwise a new image part is created.\u001b[39;00m\n\u001b[0;32m    152\u001b[0m \u001b[38;5;124;03m    \"\"\"\u001b[39;00m\n\u001b[1;32m--> 153\u001b[0m     image \u001b[38;5;241m=\u001b[39m \u001b[43mImage\u001b[49m\u001b[38;5;241;43m.\u001b[39;49m\u001b[43mfrom_file\u001b[49m\u001b[43m(\u001b[49m\u001b[43mimage_file\u001b[49m\u001b[43m)\u001b[49m\n\u001b[0;32m    154\u001b[0m     image_part \u001b[38;5;241m=\u001b[39m \u001b[38;5;28mself\u001b[39m\u001b[38;5;241m.\u001b[39m_find_by_sha1(image\u001b[38;5;241m.\u001b[39msha1)\n\u001b[0;32m    155\u001b[0m     \u001b[38;5;28;01mreturn\u001b[39;00m ImagePart\u001b[38;5;241m.\u001b[39mnew(\u001b[38;5;28mself\u001b[39m\u001b[38;5;241m.\u001b[39m_package, image) \u001b[38;5;28;01mif\u001b[39;00m image_part \u001b[38;5;129;01mis\u001b[39;00m \u001b[38;5;28;01mNone\u001b[39;00m \u001b[38;5;28;01melse\u001b[39;00m image_part\n",
      "File \u001b[1;32mD:\\강의자료\\생성형AI로AI애플리케이션개발하기\\py311\\Lib\\site-packages\\pptx\\parts\\image.py:162\u001b[0m, in \u001b[0;36mImage.from_file\u001b[1;34m(cls, image_file)\u001b[0m\n\u001b[0;32m    156\u001b[0m \u001b[38;5;250m\u001b[39m\u001b[38;5;124;03m\"\"\"\u001b[39;00m\n\u001b[0;32m    157\u001b[0m \u001b[38;5;124;03mReturn a new |Image| object loaded from *image_file*, which can be\u001b[39;00m\n\u001b[0;32m    158\u001b[0m \u001b[38;5;124;03meither a path (string) or a file-like object.\u001b[39;00m\n\u001b[0;32m    159\u001b[0m \u001b[38;5;124;03m\"\"\"\u001b[39;00m\n\u001b[0;32m    160\u001b[0m \u001b[38;5;28;01mif\u001b[39;00m is_string(image_file):\n\u001b[0;32m    161\u001b[0m     \u001b[38;5;66;03m# treat image_file as a path\u001b[39;00m\n\u001b[1;32m--> 162\u001b[0m     \u001b[38;5;28;01mwith\u001b[39;00m \u001b[38;5;28;43mopen\u001b[39;49m\u001b[43m(\u001b[49m\u001b[43mimage_file\u001b[49m\u001b[43m,\u001b[49m\u001b[43m \u001b[49m\u001b[38;5;124;43m\"\u001b[39;49m\u001b[38;5;124;43mrb\u001b[39;49m\u001b[38;5;124;43m\"\u001b[39;49m\u001b[43m)\u001b[49m \u001b[38;5;28;01mas\u001b[39;00m f:\n\u001b[0;32m    163\u001b[0m         blob \u001b[38;5;241m=\u001b[39m f\u001b[38;5;241m.\u001b[39mread()\n\u001b[0;32m    164\u001b[0m     filename \u001b[38;5;241m=\u001b[39m os\u001b[38;5;241m.\u001b[39mpath\u001b[38;5;241m.\u001b[39mbasename(image_file)\n",
      "\u001b[1;31mFileNotFoundError\u001b[0m: [Errno 2] No such file or directory: 'title.jpg'"
     ]
    }
   ],
   "source": [
    "dir_path = \"./\"\n",
    "template_path = os.path.join(dir_path, \"ppt_template.pptx\")\n",
    "prs = Presentation(template_path)\n",
    "\n",
    "# 표지 : 0 Title 1, 13 Picture Placeholder 2, 14 Text Placeholder 3\n",
    "slide = prs.slides.add_slide(prs.slide_layouts[0])\n",
    "slide.placeholders[13].insert_picture(\"title.jpg\")\n",
    "slide.placeholders[0].text = presentation_title\n",
    "slide.placeholders[14].text = presenter_name\n",
    "\n",
    "# 목차 : 0 Title 1, 1 Content Placeholder 2, 13 Picture Placeholder 3, 14 Picture Placeholder 4, 15 Picture Placeholder 5\n",
    "slide = prs.slides.add_slide(prs.slide_layouts[1])\n",
    "slide.placeholders[0].text = 'Content'\n",
    "slide.placeholders[1].text = \"\"\"1. 기획\n",
    "2. 설계\n",
    "3. 인사이트\n",
    "\"\"\"\n",
    "slide.placeholders[13].insert_picture(\"index1.jpg\")\n",
    "slide.placeholders[14].insert_picture(\"index2.jpg\")\n",
    "slide.placeholders[15].insert_picture(\"index3.jpg\")\n",
    "\n",
    "# 챕터 장표\n",
    "slide = prs.slides.add_slide(prs.slide_layouts[4])\n",
    "slide.placeholders[0].text = \"1. 기획\"\n",
    "slide.placeholders[13].insert_picture(\"subject.jpg\")\n",
    "\n",
    "\n",
    "for s in slides_content:\n",
    "    count = len(s['content'])\n",
    "    if count == 1:\n",
    "        k = list(s['content'][0].keys())\n",
    "        slide = prs.slides.add_slide(prs.slide_layouts[5])\n",
    "        slide.placeholders[0].text = s['title']\n",
    "        slide.placeholders[1].text = s['content'][0][k[0]]\n",
    "    elif count == 2:\n",
    "        k1 = list(s['content'][0].keys())\n",
    "        k2 = list(s['content'][1].keys())\n",
    "        slide = prs.slides.add_slide(prs.slide_layouts[8])\n",
    "        slide.placeholders[0].text = s['title']\n",
    "        slide.placeholders[1].text = k1[0]\n",
    "        slide.placeholders[2].text = s['content'][0][k1[0]]\n",
    "        slide.placeholders[3].text = k2[0]\n",
    "        slide.placeholders[4].text = s['content'][1][k2[0]]\n",
    "    else:\n",
    "        k1 = list(s['content'][0].keys())\n",
    "        k2 = list(s['content'][1].keys())\n",
    "        k3 = list(s['content'][2].keys())\n",
    "        slide = prs.slides.add_slide(prs.slide_layouts[9])\n",
    "        slide.placeholders[0].text = s['title']\n",
    "        slide.placeholders[1].text = k1[0]\n",
    "        slide.placeholders[2].text = s['content'][0][k1[0]]\n",
    "        slide.placeholders[3].text = k2[0]\n",
    "        slide.placeholders[4].text = s['content'][1][k2[0]]\n",
    "        slide.placeholders[13].text= k3[0]\n",
    "        slide.placeholders[14].text= s['content'][2][k3[0]]\n",
    "\n",
    "# 마지막장\n",
    "slide = prs.slides.add_slide(prs.slide_layouts[10])\n",
    "slide.placeholders[0].text = \"감사합니다.\"\n",
    "slide.placeholders[13].insert_picture(\"ending.jpg\")\n",
    "slide.placeholders[15].text = \"\"\"본 자료는 생성형 AI로 만들었습니다. \n",
    "내용을 확인하고 수정하여 사용하세요.\"\"\"\n",
    "\n",
    "# PPT 템플릿 슬라이드 삭제\n",
    "for slide_id in [7, 6, 5, 4, 3, 2, 1, 0]:\n",
    "    if slide_id < len(prs.slides):\n",
    "        xml_slides = prs.slides._sldIdLst\n",
    "        slides = list(xml_slides)\n",
    "        xml_slides.remove(slides[slide_id])\n",
    "\n",
    "\n",
    "# Save the presentation\n",
    "prs.save(os.path.join(dir_path, 'generated_ppt.pptx'))"
   ]
  },
  {
   "cell_type": "markdown",
   "id": "b2f6d704",
   "metadata": {},
   "source": [
    "# 파워포인트 레이아웃 확인"
   ]
  },
  {
   "cell_type": "code",
   "execution_count": null,
   "id": "ecac7d40",
   "metadata": {},
   "outputs": [],
   "source": [
    "# 기본 레이아웃 11가지 placeholder 출력\n",
    "template_path = os.path.join(dir_path, \"ppt_template.pptx\")\n",
    "prs = Presentation(template_path)\n",
    "\n",
    "for i in range(0, 11):\n",
    "    print(f\"\\n======={i+1}번 슬라이드=======\")\n",
    "    slide = prs.slides.add_slide(prs.slide_layouts[i])\n",
    "    \n",
    "    # 생성한 레이아웃 안의 모든 placeholder 이름 확인\n",
    "    for shape in slide.placeholders:\n",
    "        #print(f\"{shape.name}\")\n",
    "        print(f\"{shape.placeholder_format.idx} {shape.name}\")"
   ]
  },
  {
   "cell_type": "code",
   "execution_count": null,
   "id": "53e18bf0",
   "metadata": {},
   "outputs": [],
   "source": []
  }
 ],
 "metadata": {
  "kernelspec": {
   "display_name": "Python 3 (ipykernel)",
   "language": "python",
   "name": "python3"
  },
  "language_info": {
   "codemirror_mode": {
    "name": "ipython",
    "version": 3
   },
   "file_extension": ".py",
   "mimetype": "text/x-python",
   "name": "python",
   "nbconvert_exporter": "python",
   "pygments_lexer": "ipython3",
   "version": "3.11.8"
  }
 },
 "nbformat": 4,
 "nbformat_minor": 5
}
