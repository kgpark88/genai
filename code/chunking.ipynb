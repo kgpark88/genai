{
 "cells": [
  {
   "cell_type": "code",
   "execution_count": 2,
   "metadata": {},
   "outputs": [
    {
     "name": "stdout",
     "output_type": "stream",
     "text": [
      "Collecting tiktoken\n",
      "  Using cached tiktoken-0.6.0-cp311-cp311-win_amd64.whl.metadata (6.8 kB)\n",
      "Collecting regex>=2022.1.18 (from tiktoken)\n",
      "  Using cached regex-2023.12.25-cp311-cp311-win_amd64.whl.metadata (41 kB)\n",
      "Requirement already satisfied: requests>=2.26.0 in d:\\강의자료\\생성형ai로ai애플리케이션개발하기\\py311\\lib\\site-packages (from tiktoken) (2.31.0)\n",
      "Requirement already satisfied: charset-normalizer<4,>=2 in d:\\강의자료\\생성형ai로ai애플리케이션개발하기\\py311\\lib\\site-packages (from requests>=2.26.0->tiktoken) (3.3.2)\n",
      "Requirement already satisfied: idna<4,>=2.5 in d:\\강의자료\\생성형ai로ai애플리케이션개발하기\\py311\\lib\\site-packages (from requests>=2.26.0->tiktoken) (3.6)\n",
      "Requirement already satisfied: urllib3<3,>=1.21.1 in d:\\강의자료\\생성형ai로ai애플리케이션개발하기\\py311\\lib\\site-packages (from requests>=2.26.0->tiktoken) (2.2.1)\n",
      "Requirement already satisfied: certifi>=2017.4.17 in d:\\강의자료\\생성형ai로ai애플리케이션개발하기\\py311\\lib\\site-packages (from requests>=2.26.0->tiktoken) (2024.2.2)\n",
      "Using cached tiktoken-0.6.0-cp311-cp311-win_amd64.whl (798 kB)\n",
      "Using cached regex-2023.12.25-cp311-cp311-win_amd64.whl (269 kB)\n",
      "Installing collected packages: regex, tiktoken\n",
      "Successfully installed regex-2023.12.25 tiktoken-0.6.0\n",
      "Note: you may need to restart the kernel to use updated packages.\n"
     ]
    }
   ],
   "source": [
    "%pip install tiktoken"
   ]
  },
  {
   "cell_type": "code",
   "execution_count": 3,
   "metadata": {},
   "outputs": [],
   "source": [
    "import os\n",
    "import tiktoken\n",
    "from openai import OpenAI\n",
    "\n",
    "# client = OpenAI(api_key=os.environ.get(\"OPENAI_API_KEY\", \"<your OpenAI API key>\"))\n",
    "client = OpenAI()"
   ]
  },
  {
   "cell_type": "code",
   "execution_count": 4,
   "metadata": {
    "id": "o_HVGvXNZGci"
   },
   "outputs": [],
   "source": [
    "titles = [\n",
    "    \"1. 생성형 AI의 열풍과 시장 확대 가. ChatGPT가 촉발한 생성형 AI 경쟁 나. 생성형 AI 시장 규모 다. 국내외 기업 및 기관의 생성형 AI 현황\",\n",
    "    \"2. 생성형 AI의 효용성 가. 코드 생성, 문서화 및 품질 보증 나. 제품 개발 및 관리 다. 블로그 및 소셜 미디어 콘텐츠 작성 라. 인바운드 및 아웃바운드 마케팅 및 영업 마. 프로젝트 관리 및 운영 바. 그래픽 디자인 및 비디오 마케팅 사. 엔터테인먼트 미디어 생성 아. 성과 관리 및 코칭 자. 비즈니스 성과 보고 및 데이터 분석\",\n",
    "    \"3. 생성형 AI의 한계 가. 기능적 측면 나. 윤리적 측면 다. 비용적 측면 라. 환경적 측면 마. 저작권 측면 바. 개인정보 측면\",\n",
    "    \"4. 생성형 AI 활용 방안 가. 비즈니스에 생성형 AI 활용 현황 나. 생성형 AI 활용 시 주요 고려사항\"\n",
    "]"
   ]
  },
  {
   "cell_type": "code",
   "execution_count": 5,
   "metadata": {
    "id": "Hsu4zdYCZIlW"
   },
   "outputs": [],
   "source": [
    "def parse_for_chat_history(response: client = False, user_prompt=None):\n",
    "    if user_prompt:\n",
    "        return {'role': 'user', 'content': user_prompt}\n",
    "    return {'role': 'assistant', 'content': response.choices[0].message.content}"
   ]
  },
  {
   "cell_type": "code",
   "execution_count": 6,
   "metadata": {
    "id": "K7fHOhzaZJzY"
   },
   "outputs": [],
   "source": [
    "def num_tokens_from_messages(messages, model=\"gpt-3.5-turbo-0613\"):\n",
    "    \"\"\"Return the number of tokens used by a list of messages.\"\"\"\n",
    "    try:\n",
    "        encoding = tiktoken.encoding_for_model(model)\n",
    "    except KeyError:\n",
    "        print(\"Warning: model not found. Using cl100k_base encoding.\")\n",
    "        encoding = tiktoken.get_encoding(\"cl100k_base\")\n",
    "    if model in {\n",
    "        \"gpt-3.5-turbo-0613\",\n",
    "        \"gpt-3.5-turbo-16k-0613\",\n",
    "        \"gpt-4-0314\",\n",
    "        \"gpt-4-32k-0314\",\n",
    "        \"gpt-4-0613\",\n",
    "        \"gpt-4-32k-0613\",\n",
    "        }:\n",
    "        tokens_per_message = 3\n",
    "        tokens_per_name = 1\n",
    "    elif model == \"gpt-3.5-turbo-0301\":\n",
    "        tokens_per_message = 4  # every message follows <|start|>{role/name}\\n{content}<|end|>\\n\n",
    "        tokens_per_name = -1  # if there's a name, the role is omitted\n",
    "    elif \"gpt-3.5-turbo\" in model:\n",
    "        print(\"Warning: gpt-3.5-turbo may update over time. Returning num tokens assuming gpt-3.5-turbo-0613.\")\n",
    "        return num_tokens_from_messages(messages, model=\"gpt-3.5-turbo-0613\")\n",
    "    elif \"gpt-4\" in model:\n",
    "        print(\"Warning: gpt-4 may update over time. Returning num tokens assuming gpt-4-0613.\")\n",
    "        return num_tokens_from_messages(messages, model=\"gpt-4-0613\")\n",
    "    else:\n",
    "        raise NotImplementedError(\n",
    "            f\"\"\"num_tokens_from_messages() is not implemented for model {model}. See https://github.com/openai/openai-python/blob/main/chatml.md for information on how messages are converted to tokens.\"\"\"\n",
    "        )\n",
    "    num_tokens = 0\n",
    "    for message in messages:\n",
    "        num_tokens += tokens_per_message\n",
    "        for key, value in message.items():\n",
    "            num_tokens += len(encoding.encode(value))\n",
    "            if key == \"name\":\n",
    "                num_tokens += tokens_per_name\n",
    "    num_tokens += 3  # every reply is primed with <|start|>assistant<|message|>\n",
    "    return num_tokens"
   ]
  },
  {
   "cell_type": "code",
   "execution_count": 7,
   "metadata": {
    "id": "6Mhanr-gZK-2"
   },
   "outputs": [
    {
     "name": "stdout",
     "output_type": "stream",
     "text": [
      "127 prompt tokens counted.\n"
     ]
    }
   ],
   "source": [
    "messages = [\n",
    "  {\"role\": \"system\", \"content\": \"You are a helpful, pattern-following assistant that translates corporate jargon into plain English.\"},\n",
    "  {\"role\": \"system\", \"name\":\"example_user\", \"content\": \"New synergies will help drive top-line growth.\"},\n",
    "  {\"role\": \"system\", \"name\": \"example_assistant\", \"content\": \"Things working well together will increase revenue.\"},\n",
    "  {\"role\": \"system\", \"name\":\"example_user\", \"content\": \"Let's circle back when we have more bandwidth to touch base on opportunities for increased leverage.\"},\n",
    "  {\"role\": \"system\", \"name\": \"example_assistant\", \"content\": \"Let's talk later when we're less busy about how to do better.\"},\n",
    "  {\"role\": \"user\", \"content\": \"This late pivot means we don't have time to boil the ocean for the client deliverable.\"},\n",
    "]\n",
    "\n",
    "model = \"gpt-3.5-turbo-0301\"\n",
    "\n",
    "print(f\"{num_tokens_from_messages(messages, model)} prompt tokens counted.\")\n",
    "# Should show ~126 total_tokens"
   ]
  },
  {
   "cell_type": "code",
   "execution_count": 8,
   "metadata": {
    "id": "YDM9p9zZZMYp"
   },
   "outputs": [],
   "source": [
    "system_prompt = \"너는 신문기사 작성 어시스턴트이야. 생성형 AI 활용 방안에 대한 기사를 작성하고 있어. 아래 [제목 목록]이 있어. 각 제목을 글의 시작점으로 사용해서 각 제목에 대해 짧은 단락을 작성해줘. .\\n\\n\"\n",
    "system_prompt += \"[제목 목록] :\\n\"\n",
    "\n",
    "for title in titles:\n",
    "    system_prompt += f\"{title}\\n\"\n",
    "\n",
    "# chat history object\n",
    "chat_history =  []\n",
    "\n",
    "# Add in the system message:\n",
    "chat_history.append({'role': 'system', 'content': system_prompt})"
   ]
  },
  {
   "cell_type": "code",
   "execution_count": 9,
   "metadata": {},
   "outputs": [
    {
     "name": "stdout",
     "output_type": "stream",
     "text": [
      "너는 신문기사 작성 어시스턴트이야. 생성형 AI 활용 방안에 대한 기사를 작성하고 있어. 아래 [제목 목록]이 있어. 각 제목을 글의 시작점으로 사용해서 각 제목에 대해 짧은 단락을 작성해줘. .\n",
      "\n",
      "[제목 목록] :\n",
      "1. 생성형 AI의 열풍과 시장 확대 가. ChatGPT가 촉발한 생성형 AI 경쟁 나. 생성형 AI 시장 규모 다. 국내외 기업 및 기관의 생성형 AI 현황\n",
      "2. 생성형 AI의 효용성 가. 코드 생성, 문서화 및 품질 보증 나. 제품 개발 및 관리 다. 블로그 및 소셜 미디어 콘텐츠 작성 라. 인바운드 및 아웃바운드 마케팅 및 영업 마. 프로젝트 관리 및 운영 바. 그래픽 디자인 및 비디오 마케팅 사. 엔터테인먼트 미디어 생성 아. 성과 관리 및 코칭 자. 비즈니스 성과 보고 및 데이터 분석\n",
      "3. 생성형 AI의 한계 가. 기능적 측면 나. 윤리적 측면 다. 비용적 측면 라. 환경적 측면 마. 저작권 측면 바. 개인정보 측면\n",
      "4. 생성형 AI 활용 방안 가. 비즈니스에 생성형 AI 활용 현황 나. 생성형 AI 활용 시 주요 고려사항\n",
      "\n"
     ]
    }
   ],
   "source": [
    "print(system_prompt)"
   ]
  },
  {
   "cell_type": "markdown",
   "metadata": {
    "id": "lHhHKjxmgRU3"
   },
   "source": [
    "### 토큰 크기에 따라 메시지 삭제하기\n",
    "- 토큰 수가 한도를 초과하면 마지막 메시지를 제거\n",
    "- 채팅 기록이 늘어남에 따라 토큰 수가 줄어들도록 한다."
   ]
  },
  {
   "cell_type": "code",
   "execution_count": 10,
   "metadata": {
    "id": "bmyOJfr6gRU4"
   },
   "outputs": [],
   "source": [
    "MAX_TOKEN_SIZE = 1000"
   ]
  },
  {
   "cell_type": "code",
   "execution_count": 11,
   "metadata": {
    "id": "cPMrnb8RZNk2"
   },
   "outputs": [
    {
     "name": "stdout",
     "output_type": "stream",
     "text": [
      "--------------------------------------------------------------------------------\n",
      "[{'role': 'system', 'content': '너는 신문기사 작성 어시스턴트이야. 생성형 AI 활용 방안에 대한 기사를 작성하고 있어. 아래 [제목 목록]이 있어. 각 제목을 글의 시작점으로 사용해서 각 제목에 대해 짧은 단락을 작성해줘. .\\n\\n[제목 목록] :\\n1. 생성형 AI의 열풍과 시장 확대 가. ChatGPT가 촉발한 생성형 AI 경쟁 나. 생성형 AI 시장 규모 다. 국내외 기업 및 기관의 생성형 AI 현황\\n2. 생성형 AI의 효용성 가. 코드 생성, 문서화 및 품질 보증 나. 제품 개발 및 관리 다. 블로그 및 소셜 미디어 콘텐츠 작성 라. 인바운드 및 아웃바운드 마케팅 및 영업 마. 프로젝트 관리 및 운영 바. 그래픽 디자인 및 비디오 마케팅 사. 엔터테인먼트 미디어 생성 아. 성과 관리 및 코칭 자. 비즈니스 성과 보고 및 데이터 분석\\n3. 생성형 AI의 한계 가. 기능적 측면 나. 윤리적 측면 다. 비용적 측면 라. 환경적 측면 마. 저작권 측면 바. 개인정보 측면\\n4. 생성형 AI 활용 방안 가. 비즈니스에 생성형 AI 활용 현황 나. 생성형 AI 활용 시 주요 고려사항\\n'}, {'role': 'user', 'content': '1. 생성형 AI의 열풍과 시장 확대 가. ChatGPT가 촉발한 생성형 AI 경쟁 나. 생성형 AI 시장 규모 다. 국내외 기업 및 기관의 생성형 AI 현황에 대한 짧은 단락을 작성해.'}]\n",
      "--------------------------------------------------------------------------------\n",
      "ChatCompletion(id='chatcmpl-8twmmDC6JEhEeKb6tHNJikN0hL8nw', choices=[Choice(finish_reason='stop', index=0, logprobs=None, message=ChatCompletionMessage(content='생성형 AI 기술의 열풍이 불고 있으며, 이는 ChatGPT와 같은 모델이 발전함에 따라 점점 확대되고 있다. 이를 통해 생성형 AI 시장에서의 경쟁이 치열해지고 있으며, 이는 국내외 기업과 기관들이 적극적으로 참여하고 있는 현황으로 나타나고 있다. 생성형 AI 시장의 성장과 함께 규모도 더욱 커지고 있어, 이는 미래에 더 다양한 산업 분야에서의 활용이 기대된다.', role='assistant', function_call=None, tool_calls=None))], created=1708344704, model='gpt-3.5-turbo-0125', object='chat.completion', system_fingerprint='fp_69829325d0', usage=CompletionUsage(completion_tokens=190, prompt_tokens=591, total_tokens=781))\n",
      "--------------------------------------------------------------------------------\n",
      "[{'role': 'system', 'content': '너는 신문기사 작성 어시스턴트이야. 생성형 AI 활용 방안에 대한 기사를 작성하고 있어. 아래 [제목 목록]이 있어. 각 제목을 글의 시작점으로 사용해서 각 제목에 대해 짧은 단락을 작성해줘. .\\n\\n[제목 목록] :\\n1. 생성형 AI의 열풍과 시장 확대 가. ChatGPT가 촉발한 생성형 AI 경쟁 나. 생성형 AI 시장 규모 다. 국내외 기업 및 기관의 생성형 AI 현황\\n2. 생성형 AI의 효용성 가. 코드 생성, 문서화 및 품질 보증 나. 제품 개발 및 관리 다. 블로그 및 소셜 미디어 콘텐츠 작성 라. 인바운드 및 아웃바운드 마케팅 및 영업 마. 프로젝트 관리 및 운영 바. 그래픽 디자인 및 비디오 마케팅 사. 엔터테인먼트 미디어 생성 아. 성과 관리 및 코칭 자. 비즈니스 성과 보고 및 데이터 분석\\n3. 생성형 AI의 한계 가. 기능적 측면 나. 윤리적 측면 다. 비용적 측면 라. 환경적 측면 마. 저작권 측면 바. 개인정보 측면\\n4. 생성형 AI 활용 방안 가. 비즈니스에 생성형 AI 활용 현황 나. 생성형 AI 활용 시 주요 고려사항\\n'}, {'role': 'user', 'content': '1. 생성형 AI의 열풍과 시장 확대 가. ChatGPT가 촉발한 생성형 AI 경쟁 나. 생성형 AI 시장 규모 다. 국내외 기업 및 기관의 생성형 AI 현황에 대한 짧은 단락을 작성해.'}, {'role': 'assistant', 'content': '생성형 AI 기술의 열풍이 불고 있으며, 이는 ChatGPT와 같은 모델이 발전함에 따라 점점 확대되고 있다. 이를 통해 생성형 AI 시장에서의 경쟁이 치열해지고 있으며, 이는 국내외 기업과 기관들이 적극적으로 참여하고 있는 현황으로 나타나고 있다. 생성형 AI 시장의 성장과 함께 규모도 더욱 커지고 있어, 이는 미래에 더 다양한 산업 분야에서의 활용이 기대된다.'}, {'role': 'user', 'content': '2. 생성형 AI의 효용성 가. 코드 생성, 문서화 및 품질 보증 나. 제품 개발 및 관리 다. 블로그 및 소셜 미디어 콘텐츠 작성 라. 인바운드 및 아웃바운드 마케팅 및 영업 마. 프로젝트 관리 및 운영 바. 그래픽 디자인 및 비디오 마케팅 사. 엔터테인먼트 미디어 생성 아. 성과 관리 및 코칭 자. 비즈니스 성과 보고 및 데이터 분석에 대한 짧은 단락을 작성해.'}]\n",
      "--------------------------------------------------------------------------------\n",
      "ChatCompletion(id='chatcmpl-8twmp0YRa0brSKk8so3O2Ttl6QVKn', choices=[Choice(finish_reason='stop', index=0, logprobs=None, message=ChatCompletionMessage(content='생성형 AI는 다양한 분야에서 효용성을 보여주고 있다. 코드 생성, 문서화, 그리고 품질 보증 과정에서의 활용을 통해 제품 개발 및 관리의 효율성을 높일 수 있으며, 블로그나 소셜 미디어 콘텐츠 작성에서도 큰 도움을 줄 수 있다. 또한, 인바운드 및 아웃바운드 마케팅 및 영업, 프로젝트 관리 및 운영, 그래픽 디자인 및 비디오 마케팅, 엔터테인먼트 미디어 생성, 성과 관리 및 코칭, 그리고 비즈니스 성과 보고 및 데이터 분석 등 다양한 업무 영역에서 생성형 AI가 유용하게 활용될 수 있다.', role='assistant', function_call=None, tool_calls=None))], created=1708344707, model='gpt-3.5-turbo-0125', object='chat.completion', system_fingerprint='fp_69829325d0', usage=CompletionUsage(completion_tokens=272, prompt_tokens=992, total_tokens=1264))\n",
      "--------------------------------------------------------------------------------\n",
      "[{'role': 'system', 'content': '너는 신문기사 작성 어시스턴트이야. 생성형 AI 활용 방안에 대한 기사를 작성하고 있어. 아래 [제목 목록]이 있어. 각 제목을 글의 시작점으로 사용해서 각 제목에 대해 짧은 단락을 작성해줘. .\\n\\n[제목 목록] :\\n1. 생성형 AI의 열풍과 시장 확대 가. ChatGPT가 촉발한 생성형 AI 경쟁 나. 생성형 AI 시장 규모 다. 국내외 기업 및 기관의 생성형 AI 현황\\n2. 생성형 AI의 효용성 가. 코드 생성, 문서화 및 품질 보증 나. 제품 개발 및 관리 다. 블로그 및 소셜 미디어 콘텐츠 작성 라. 인바운드 및 아웃바운드 마케팅 및 영업 마. 프로젝트 관리 및 운영 바. 그래픽 디자인 및 비디오 마케팅 사. 엔터테인먼트 미디어 생성 아. 성과 관리 및 코칭 자. 비즈니스 성과 보고 및 데이터 분석\\n3. 생성형 AI의 한계 가. 기능적 측면 나. 윤리적 측면 다. 비용적 측면 라. 환경적 측면 마. 저작권 측면 바. 개인정보 측면\\n4. 생성형 AI 활용 방안 가. 비즈니스에 생성형 AI 활용 현황 나. 생성형 AI 활용 시 주요 고려사항\\n'}, {'role': 'user', 'content': '2. 생성형 AI의 효용성 가. 코드 생성, 문서화 및 품질 보증 나. 제품 개발 및 관리 다. 블로그 및 소셜 미디어 콘텐츠 작성 라. 인바운드 및 아웃바운드 마케팅 및 영업 마. 프로젝트 관리 및 운영 바. 그래픽 디자인 및 비디오 마케팅 사. 엔터테인먼트 미디어 생성 아. 성과 관리 및 코칭 자. 비즈니스 성과 보고 및 데이터 분석에 대한 짧은 단락을 작성해.'}, {'role': 'assistant', 'content': '생성형 AI는 다양한 분야에서 효용성을 보여주고 있다. 코드 생성, 문서화, 그리고 품질 보증 과정에서의 활용을 통해 제품 개발 및 관리의 효율성을 높일 수 있으며, 블로그나 소셜 미디어 콘텐츠 작성에서도 큰 도움을 줄 수 있다. 또한, 인바운드 및 아웃바운드 마케팅 및 영업, 프로젝트 관리 및 운영, 그래픽 디자인 및 비디오 마케팅, 엔터테인먼트 미디어 생성, 성과 관리 및 코칭, 그리고 비즈니스 성과 보고 및 데이터 분석 등 다양한 업무 영역에서 생성형 AI가 유용하게 활용될 수 있다.'}, {'role': 'user', 'content': '3. 생성형 AI의 한계 가. 기능적 측면 나. 윤리적 측면 다. 비용적 측면 라. 환경적 측면 마. 저작권 측면 바. 개인정보 측면에 대한 짧은 단락을 작성해.'}]\n",
      "--------------------------------------------------------------------------------\n",
      "ChatCompletion(id='chatcmpl-8twmvF3OOlxYDEkj1RyCEJfuLqAcx', choices=[Choice(finish_reason='stop', index=0, logprobs=None, message=ChatCompletionMessage(content='생성형 AI의 한계는 다양한 측면에서 발생한다. 기능적 측면에서는 아직 완벽한 결과물을 보장하지 못하고, 윤리적 측면에서는 인간의 판단과 도덕적 책임을 대체할 수 없다는 우려가 있다. 또한, 비용적 측면에서는 초기 투자 및 유지 보수 비용이 상대적으로 높을 수 있으며, 환경적 측면에서는 대규모 데이터 처리와 모델 훈련으로 인한 에너지 소비가 문제가 될 수 있다. 저작권 측면에서는 AI가 생성한 콘텐츠의 소유권 문제가 논란이 되고, 개인정보 측면에서는 사용자 정보의 무단 수집 및 보안 문제가 우려되고 있다. 이러한 다양한 측면을 고려하여 생성형 AI의 한계를 인식하고 대응하여야 할 필요가 있다.', role='assistant', function_call=None, tool_calls=None))], created=1708344713, model='gpt-3.5-turbo-0125', object='chat.completion', system_fingerprint='fp_69829325d0', usage=CompletionUsage(completion_tokens=306, prompt_tokens=1069, total_tokens=1375))\n",
      "--------------------------------------------------------------------------------\n",
      "[{'role': 'system', 'content': '너는 신문기사 작성 어시스턴트이야. 생성형 AI 활용 방안에 대한 기사를 작성하고 있어. 아래 [제목 목록]이 있어. 각 제목을 글의 시작점으로 사용해서 각 제목에 대해 짧은 단락을 작성해줘. .\\n\\n[제목 목록] :\\n1. 생성형 AI의 열풍과 시장 확대 가. ChatGPT가 촉발한 생성형 AI 경쟁 나. 생성형 AI 시장 규모 다. 국내외 기업 및 기관의 생성형 AI 현황\\n2. 생성형 AI의 효용성 가. 코드 생성, 문서화 및 품질 보증 나. 제품 개발 및 관리 다. 블로그 및 소셜 미디어 콘텐츠 작성 라. 인바운드 및 아웃바운드 마케팅 및 영업 마. 프로젝트 관리 및 운영 바. 그래픽 디자인 및 비디오 마케팅 사. 엔터테인먼트 미디어 생성 아. 성과 관리 및 코칭 자. 비즈니스 성과 보고 및 데이터 분석\\n3. 생성형 AI의 한계 가. 기능적 측면 나. 윤리적 측면 다. 비용적 측면 라. 환경적 측면 마. 저작권 측면 바. 개인정보 측면\\n4. 생성형 AI 활용 방안 가. 비즈니스에 생성형 AI 활용 현황 나. 생성형 AI 활용 시 주요 고려사항\\n'}, {'role': 'user', 'content': '3. 생성형 AI의 한계 가. 기능적 측면 나. 윤리적 측면 다. 비용적 측면 라. 환경적 측면 마. 저작권 측면 바. 개인정보 측면에 대한 짧은 단락을 작성해.'}, {'role': 'assistant', 'content': '생성형 AI의 한계는 다양한 측면에서 발생한다. 기능적 측면에서는 아직 완벽한 결과물을 보장하지 못하고, 윤리적 측면에서는 인간의 판단과 도덕적 책임을 대체할 수 없다는 우려가 있다. 또한, 비용적 측면에서는 초기 투자 및 유지 보수 비용이 상대적으로 높을 수 있으며, 환경적 측면에서는 대규모 데이터 처리와 모델 훈련으로 인한 에너지 소비가 문제가 될 수 있다. 저작권 측면에서는 AI가 생성한 콘텐츠의 소유권 문제가 논란이 되고, 개인정보 측면에서는 사용자 정보의 무단 수집 및 보안 문제가 우려되고 있다. 이러한 다양한 측면을 고려하여 생성형 AI의 한계를 인식하고 대응하여야 할 필요가 있다.'}, {'role': 'user', 'content': '4. 생성형 AI 활용 방안 가. 비즈니스에 생성형 AI 활용 현황 나. 생성형 AI 활용 시 주요 고려사항에 대한 짧은 단락을 작성해.'}]\n",
      "--------------------------------------------------------------------------------\n",
      "ChatCompletion(id='chatcmpl-8twnLChFeM8PMav2vmjqUMVHGp9DK', choices=[Choice(finish_reason='stop', index=0, logprobs=None, message=ChatCompletionMessage(content='생성형 AI의 활용 방안은 다양한 산업 및 업무 영역에서 확장되고 있다. 비즈니스에서는 생성형 AI를 사용하여 자동화된 콘텐츠 생성, 고객 응대, 마케팅 캠페인 등을 효율적으로 진행할 수 있다. 또한, 생성형 AI는 제품 개발 및 관리, 프로젝트 운영, 데이터 분석 등 다양한 영역에서 도움을 줄 수 있다. 주요 고려사항으로는 데이터 보안과 개인정보 보호, 모델의 신뢰성과 투명성, 윤리적 문제에 대한 고려 등이 중요하며, 생성형 AI를 도입할 때에는 이러한 사항들을 신중히 고려해야 한다.생성형 AI의 활용 방안과 함께 주의해야 할 점들은 미래 비즈니스 전략을 구축하는 데 중요한 역할을 할 것으로 예상된다.', role='assistant', function_call=None, tool_calls=None))], created=1708344739, model='gpt-3.5-turbo-0125', object='chat.completion', system_fingerprint='fp_69829325d0', usage=CompletionUsage(completion_tokens=320, prompt_tokens=966, total_tokens=1286))\n"
     ]
    }
   ],
   "source": [
    "# 각 제목에 대해 청크를 생성\n",
    "for title in titles:\n",
    "    # chat_history에 사용자 프롬프트 추가\n",
    "    chat_history.append(\n",
    "        {\"role\": \"user\", \"content\": f\"{title}에 대한 짧은 단락을 작성해.\"}\n",
    "    )\n",
    "    print(\"-\"*80)\n",
    "    print(chat_history)\n",
    "    print(\"-\"*80)\n",
    "\n",
    "    response = client.chat.completions.create(\n",
    "        model=\"gpt-3.5-turbo\", messages=chat_history\n",
    "    )\n",
    "\n",
    "    # ChatGPT response를  chat_history에 추가\n",
    "    chat_history.append(parse_for_chat_history(response))\n",
    "\n",
    "    # chat_history 토큰갯수가 MAX_TOKEN_SIZE보다 큰 경우, system 메시지가 아닌 가장 오래된 메시지를 제거\n",
    "    while num_tokens_from_messages(chat_history, model) > MAX_TOKEN_SIZE:\n",
    "        # system 메시지가 아닌 메시지 인덱스 찾기 \n",
    "        non_system_msg_index = next(\n",
    "            (i for i, msg in enumerate(chat_history) if msg[\"role\"] != \"system\"), None\n",
    "        )\n",
    "\n",
    "        # 시스템 메시지가 아닌 메시지가 있는 경우 제거\n",
    "        if non_system_msg_index is not None:\n",
    "            chat_history.pop(non_system_msg_index)\n",
    "\n",
    "    # response 출력\n",
    "    print(response)"
   ]
  },
  {
   "cell_type": "code",
   "execution_count": null,
   "metadata": {},
   "outputs": [],
   "source": []
  }
 ],
 "metadata": {
  "colab": {
   "provenance": []
  },
  "kernelspec": {
   "display_name": "Python 3 (ipykernel)",
   "language": "python",
   "name": "python3"
  },
  "language_info": {
   "codemirror_mode": {
    "name": "ipython",
    "version": 3
   },
   "file_extension": ".py",
   "mimetype": "text/x-python",
   "name": "python",
   "nbconvert_exporter": "python",
   "pygments_lexer": "ipython3",
   "version": "3.11.8"
  }
 },
 "nbformat": 4,
 "nbformat_minor": 4
}
