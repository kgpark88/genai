{
  "cells": [
    {
      "cell_type": "markdown",
      "metadata": {
        "id": "view-in-github",
        "colab_type": "text"
      },
      "source": [
        "<a href=\"https://colab.research.google.com/github/kgpark88/genai/blob/main/LangChain_LCEL.ipynb\" target=\"_parent\"><img src=\"https://colab.research.google.com/assets/colab-badge.svg\" alt=\"Open In Colab\"/></a>"
      ]
    },
    {
      "cell_type": "markdown",
      "metadata": {
        "id": "OMUrWfETCvXg"
      },
      "source": [
        "# LangChain Expression Language(LCEL)\n",
        "- Code 출처 : https://python.langchain.com/docs/expression_language/\n",
        "- 수정사항 : 설명문과 질문 내용을 한글로 변경"
      ]
    },
    {
      "cell_type": "markdown",
      "metadata": {
        "id": "anXHq-z_XGYX"
      },
      "source": [
        "### Basic example: prompt + model + output parser\n",
        "- LCEL을 사용하여 서로 다른 컴포넌트를 하나의 체인으로 연결합니다.\n",
        "- | 기호는 유닉스 파이프 연산자와 유사하며, 한 컴포넌트의 출력을 다음 컴포넌트에 입력으로 공급하여 여러 컴포넌트를 체인으로 연결합니다."
      ]
    },
    {
      "cell_type": "code",
      "execution_count": null,
      "metadata": {
        "id": "1tZ5iv9hXGYY",
        "outputId": "d01359c2-9c46-49a2-db3a-5427e22fa857"
      },
      "outputs": [
        {
          "data": {
            "text/plain": [
              "\"Why did the ice cream go to therapy? Because it had too many toppings and couldn't hold it all together!\""
            ]
          },
          "execution_count": 2,
          "metadata": {},
          "output_type": "execute_result"
        }
      ],
      "source": [
        "from langchain_core.output_parsers import StrOutputParser\n",
        "from langchain_core.prompts import ChatPromptTemplate\n",
        "from langchain_openai import ChatOpenAI\n",
        "\n",
        "prompt = ChatPromptTemplate.from_template(\"tell me a short joke about {topic}\")\n",
        "model = ChatOpenAI(model=\"gpt-3.5-turbo\")\n",
        "output_parser = StrOutputParser()\n",
        "\n",
        "chain = prompt | model | output_parser\n",
        "\n",
        "chain.invoke({\"topic\": \"ice cream\"})"
      ]
    },
    {
      "cell_type": "markdown",
      "metadata": {
        "id": "VvoQ-Fx6XGYa"
      },
      "source": [
        "### 1. Prompt\n",
        "- prompt 는 템플릿 변수의 딕셔너리를 받아 PromptValue를 생성하는 BasePromptTemplate입니다.\n",
        "- PromptValue는 완성된 프롬프트를 감싸는 래퍼로, String을 입력으로 받는 LLM이나 Message 시퀀스를 입력으로 받는 ChatModel에 전달할 수 있습니다.  \n",
        "- 이 래퍼는 BaseMessage를 생성하고 문자열을 생성하기 위한 로직을 정의하므로 두 언어 모델유형 모두에서 작동할 수 있습니다."
      ]
    },
    {
      "cell_type": "code",
      "execution_count": null,
      "metadata": {
        "id": "gO8HOOb3XGYb",
        "outputId": "b0c43542-b456-42e4-ba91-561dbad78443"
      },
      "outputs": [
        {
          "data": {
            "text/plain": [
              "ChatPromptValue(messages=[HumanMessage(content='tell me a short joke about ice cream')])"
            ]
          },
          "execution_count": 3,
          "metadata": {},
          "output_type": "execute_result"
        }
      ],
      "source": [
        "prompt_value = prompt.invoke({\"topic\": \"ice cream\"})\n",
        "prompt_value"
      ]
    },
    {
      "cell_type": "code",
      "execution_count": null,
      "metadata": {
        "id": "_1VK8SNAXGYb",
        "outputId": "a1c6791b-fb5f-401e-96d3-5c5cd584f9d9"
      },
      "outputs": [
        {
          "data": {
            "text/plain": [
              "[HumanMessage(content='tell me a short joke about ice cream')]"
            ]
          },
          "execution_count": 4,
          "metadata": {},
          "output_type": "execute_result"
        }
      ],
      "source": [
        "prompt_value.to_messages()"
      ]
    },
    {
      "cell_type": "code",
      "execution_count": null,
      "metadata": {
        "id": "TKSt6gzdXGYc",
        "outputId": "b93196bf-fc3b-42e8-f2b0-62c98970f706"
      },
      "outputs": [
        {
          "data": {
            "text/plain": [
              "'Human: tell me a short joke about ice cream'"
            ]
          },
          "execution_count": 5,
          "metadata": {},
          "output_type": "execute_result"
        }
      ],
      "source": [
        "prompt_value.to_string()"
      ]
    },
    {
      "cell_type": "markdown",
      "metadata": {
        "id": "WrhHEzGpXGYc"
      },
      "source": [
        "### 2. Model\n",
        "- PromptValue를 model에 전달합니다. 이 경우 model은 ChatModel이므로 BaseMessage를 출력합니다."
      ]
    },
    {
      "cell_type": "code",
      "execution_count": null,
      "metadata": {
        "id": "v8L_YtkrXGYd",
        "outputId": "6a813440-ecf5-4638-f2a7-4d80a62d1a71"
      },
      "outputs": [
        {
          "data": {
            "text/plain": [
              "AIMessage(content=\"Why did the ice cream go to therapy?\\n\\nBecause it had too many toppings and couldn't handle the sprinkles!\")"
            ]
          },
          "execution_count": 6,
          "metadata": {},
          "output_type": "execute_result"
        }
      ],
      "source": [
        "message = model.invoke(prompt_value)\n",
        "message"
      ]
    },
    {
      "cell_type": "markdown",
      "metadata": {
        "id": "ShymAaFIXGYd"
      },
      "source": [
        "model이 LLM이면 문자열을 출력합니다."
      ]
    },
    {
      "cell_type": "code",
      "execution_count": null,
      "metadata": {
        "id": "E15U-82vXGYe",
        "outputId": "aff946b5-5204-42b0-8710-0ef6012b1601"
      },
      "outputs": [
        {
          "data": {
            "text/plain": [
              "'\\n\\nWhy did the scoop of ice cream go to therapy?\\nBecause it had a rocky road.'"
            ]
          },
          "execution_count": 7,
          "metadata": {},
          "output_type": "execute_result"
        }
      ],
      "source": [
        "from langchain_openai.llms import OpenAI\n",
        "\n",
        "llm = OpenAI(model=\"gpt-3.5-turbo-instruct\")\n",
        "llm.invoke(prompt_value)"
      ]
    },
    {
      "cell_type": "markdown",
      "metadata": {
        "id": "KW3IpcE6XGYe"
      },
      "source": [
        "### 3. Output parser\n",
        "- 마지막으로 model 출력을 output_parser에 전달하는데, 이 output_parser는 문자열 또는 BaseMessage를 입력으로 받는다는 의미의 BaseOutputParser입니다.\n",
        "- StrOutputParser는 모든 입력을 문자열로 간단하게 변환합니다."
      ]
    },
    {
      "cell_type": "code",
      "execution_count": null,
      "metadata": {
        "id": "MR_q6tDjXGYe",
        "outputId": "dc7fec98-8483-43dc-b88a-aa1fed43c8d9"
      },
      "outputs": [
        {
          "data": {
            "text/plain": [
              "\"Why did the ice cream go to therapy?\\n\\nBecause it had too many toppings and couldn't handle the sprinkles!\""
            ]
          },
          "execution_count": 8,
          "metadata": {},
          "output_type": "execute_result"
        }
      ],
      "source": [
        "output_parser.invoke(message)"
      ]
    },
    {
      "cell_type": "markdown",
      "metadata": {
        "id": "p9MiUvUTXGYf"
      },
      "source": [
        "### 4. Entire Pipeline\n",
        "![image.png](attachment:546154a2-8141-4c5a-b19a-00573992570a.png)"
      ]
    },
    {
      "cell_type": "code",
      "execution_count": null,
      "metadata": {
        "id": "lhy5sSJkXGYf"
      },
      "outputs": [],
      "source": [
        "input = {\"topic\": \"ice cream\"}"
      ]
    },
    {
      "cell_type": "code",
      "execution_count": null,
      "metadata": {
        "id": "93Kp4uiGXGYf",
        "outputId": "be287568-131d-4b2c-9fed-1d12fcba06c1"
      },
      "outputs": [
        {
          "data": {
            "text/plain": [
              "ChatPromptValue(messages=[HumanMessage(content='tell me a short joke about ice cream')])"
            ]
          },
          "execution_count": 13,
          "metadata": {},
          "output_type": "execute_result"
        }
      ],
      "source": [
        "prompt.invoke(input)"
      ]
    },
    {
      "cell_type": "code",
      "execution_count": null,
      "metadata": {
        "id": "wDpXL_rfXGYg",
        "outputId": "da07d6b2-d9f0-41dd-a106-f7b40efa8b52"
      },
      "outputs": [
        {
          "data": {
            "text/plain": [
              "AIMessage(content='Why did the ice cream go to therapy? \\n\\nBecause it had too many sprinkles of anxiety!')"
            ]
          },
          "execution_count": 14,
          "metadata": {},
          "output_type": "execute_result"
        }
      ],
      "source": [
        "(prompt | model).invoke(input)"
      ]
    },
    {
      "cell_type": "markdown",
      "metadata": {
        "id": "dXQdpEKGXGYg"
      },
      "source": [
        "### 5. RAG Search Example\n",
        "![image.png](attachment:1bf12053-6f4e-4639-a82c-54778eafa1e1.png)"
      ]
    },
    {
      "cell_type": "code",
      "execution_count": null,
      "metadata": {
        "id": "sqxgd0B3XGYg",
        "outputId": "945bdbc4-0ded-4420-fd4d-79fb0d06d318"
      },
      "outputs": [
        {
          "name": "stdout",
          "output_type": "stream",
          "text": [
            "Requirement already satisfied: docarray in c:\\python311\\lib\\site-packages (0.40.0)\n",
            "Requirement already satisfied: numpy>=1.17.3 in c:\\python311\\lib\\site-packages (from docarray) (1.26.4)\n",
            "Requirement already satisfied: orjson>=3.8.2 in c:\\python311\\lib\\site-packages (from docarray) (3.9.13)\n",
            "Requirement already satisfied: pydantic>=1.10.8 in c:\\python311\\lib\\site-packages (from docarray) (2.6.0)\n",
            "Requirement already satisfied: rich>=13.1.0 in c:\\python311\\lib\\site-packages (from docarray) (13.6.0)\n",
            "Requirement already satisfied: types-requests>=2.28.11.6 in c:\\python311\\lib\\site-packages (from docarray) (2.31.0.20240125)\n",
            "Requirement already satisfied: typing-inspect>=0.8.0 in c:\\python311\\lib\\site-packages (from docarray) (0.9.0)\n",
            "Requirement already satisfied: annotated-types>=0.4.0 in c:\\python311\\lib\\site-packages (from pydantic>=1.10.8->docarray) (0.6.0)\n",
            "Requirement already satisfied: pydantic-core==2.16.1 in c:\\python311\\lib\\site-packages (from pydantic>=1.10.8->docarray) (2.16.1)\n",
            "Requirement already satisfied: typing-extensions>=4.6.1 in c:\\python311\\lib\\site-packages (from pydantic>=1.10.8->docarray) (4.8.0)\n",
            "Requirement already satisfied: markdown-it-py>=2.2.0 in c:\\python311\\lib\\site-packages (from rich>=13.1.0->docarray) (3.0.0)\n",
            "Requirement already satisfied: pygments<3.0.0,>=2.13.0 in c:\\python311\\lib\\site-packages (from rich>=13.1.0->docarray) (2.16.1)\n",
            "Requirement already satisfied: urllib3>=2 in c:\\python311\\lib\\site-packages (from types-requests>=2.28.11.6->docarray) (2.0.7)\n",
            "Requirement already satisfied: mypy-extensions>=0.3.0 in c:\\python311\\lib\\site-packages (from typing-inspect>=0.8.0->docarray) (1.0.0)\n",
            "Requirement already satisfied: mdurl~=0.1 in c:\\python311\\lib\\site-packages (from markdown-it-py>=2.2.0->rich>=13.1.0->docarray) (0.1.2)\n",
            "Note: you may need to restart the kernel to use updated packages.\n"
          ]
        },
        {
          "name": "stderr",
          "output_type": "stream",
          "text": [
            "DEPRECATION: Loading egg at c:\\python311\\lib\\site-packages\\mask_rcnn-2.1-py3.11.egg is deprecated. pip 24.3 will enforce this behaviour change. A possible replacement is to use pip for package installation.. Discussion can be found at https://github.com/pypa/pip/issues/12330\n"
          ]
        }
      ],
      "source": [
        "%pip install docarray"
      ]
    },
    {
      "cell_type": "code",
      "execution_count": null,
      "metadata": {
        "id": "oPd91W_iXGYh",
        "outputId": "fda953dc-c6ee-4d58-ae4b-7d0783aff846"
      },
      "outputs": [
        {
          "ename": "ValidationError",
          "evalue": "2 validation errors for DocArrayDoc\ntext\n  Field required [type=missing, input_value={'embedding': [-0.0191128..., 0.010052215411752113]}, input_type=dict]\n    For further information visit https://errors.pydantic.dev/2.6/v/missing\nmetadata\n  Field required [type=missing, input_value={'embedding': [-0.0191128..., 0.010052215411752113]}, input_type=dict]\n    For further information visit https://errors.pydantic.dev/2.6/v/missing",
          "output_type": "error",
          "traceback": [
            "\u001b[1;31m---------------------------------------------------------------------------\u001b[0m",
            "\u001b[1;31mValidationError\u001b[0m                           Traceback (most recent call last)",
            "Cell \u001b[1;32mIn[26], line 31\u001b[0m\n\u001b[0;32m     26\u001b[0m setup_and_retrieval \u001b[38;5;241m=\u001b[39m RunnableParallel(\n\u001b[0;32m     27\u001b[0m     {\u001b[38;5;124m\"\u001b[39m\u001b[38;5;124mcontext\u001b[39m\u001b[38;5;124m\"\u001b[39m: retriever, \u001b[38;5;124m\"\u001b[39m\u001b[38;5;124mquestion\u001b[39m\u001b[38;5;124m\"\u001b[39m: RunnablePassthrough()}\n\u001b[0;32m     28\u001b[0m )\n\u001b[0;32m     29\u001b[0m chain \u001b[38;5;241m=\u001b[39m setup_and_retrieval \u001b[38;5;241m|\u001b[39m prompt \u001b[38;5;241m|\u001b[39m model \u001b[38;5;241m|\u001b[39m output_parser\n\u001b[1;32m---> 31\u001b[0m \u001b[43mchain\u001b[49m\u001b[38;5;241;43m.\u001b[39;49m\u001b[43minvoke\u001b[49m\u001b[43m(\u001b[49m\u001b[38;5;124;43m\"\u001b[39;49m\u001b[38;5;124;43mwhere did harrison work?\u001b[39;49m\u001b[38;5;124;43m\"\u001b[39;49m\u001b[43m)\u001b[49m\n",
            "File \u001b[1;32mC:\\Python311\\Lib\\site-packages\\langchain_core\\runnables\\base.py:2053\u001b[0m, in \u001b[0;36mRunnableSequence.invoke\u001b[1;34m(self, input, config)\u001b[0m\n\u001b[0;32m   2051\u001b[0m \u001b[38;5;28;01mtry\u001b[39;00m:\n\u001b[0;32m   2052\u001b[0m     \u001b[38;5;28;01mfor\u001b[39;00m i, step \u001b[38;5;129;01min\u001b[39;00m \u001b[38;5;28menumerate\u001b[39m(\u001b[38;5;28mself\u001b[39m\u001b[38;5;241m.\u001b[39msteps):\n\u001b[1;32m-> 2053\u001b[0m         \u001b[38;5;28minput\u001b[39m \u001b[38;5;241m=\u001b[39m \u001b[43mstep\u001b[49m\u001b[38;5;241;43m.\u001b[39;49m\u001b[43minvoke\u001b[49m\u001b[43m(\u001b[49m\n\u001b[0;32m   2054\u001b[0m \u001b[43m            \u001b[49m\u001b[38;5;28;43minput\u001b[39;49m\u001b[43m,\u001b[49m\n\u001b[0;32m   2055\u001b[0m \u001b[43m            \u001b[49m\u001b[38;5;66;43;03m# mark each step as a child run\u001b[39;49;00m\n\u001b[0;32m   2056\u001b[0m \u001b[43m            \u001b[49m\u001b[43mpatch_config\u001b[49m\u001b[43m(\u001b[49m\n\u001b[0;32m   2057\u001b[0m \u001b[43m                \u001b[49m\u001b[43mconfig\u001b[49m\u001b[43m,\u001b[49m\u001b[43m \u001b[49m\u001b[43mcallbacks\u001b[49m\u001b[38;5;241;43m=\u001b[39;49m\u001b[43mrun_manager\u001b[49m\u001b[38;5;241;43m.\u001b[39;49m\u001b[43mget_child\u001b[49m\u001b[43m(\u001b[49m\u001b[38;5;124;43mf\u001b[39;49m\u001b[38;5;124;43m\"\u001b[39;49m\u001b[38;5;124;43mseq:step:\u001b[39;49m\u001b[38;5;132;43;01m{\u001b[39;49;00m\u001b[43mi\u001b[49m\u001b[38;5;241;43m+\u001b[39;49m\u001b[38;5;241;43m1\u001b[39;49m\u001b[38;5;132;43;01m}\u001b[39;49;00m\u001b[38;5;124;43m\"\u001b[39;49m\u001b[43m)\u001b[49m\n\u001b[0;32m   2058\u001b[0m \u001b[43m            \u001b[49m\u001b[43m)\u001b[49m\u001b[43m,\u001b[49m\n\u001b[0;32m   2059\u001b[0m \u001b[43m        \u001b[49m\u001b[43m)\u001b[49m\n\u001b[0;32m   2060\u001b[0m \u001b[38;5;66;03m# finish the root run\u001b[39;00m\n\u001b[0;32m   2061\u001b[0m \u001b[38;5;28;01mexcept\u001b[39;00m \u001b[38;5;167;01mBaseException\u001b[39;00m \u001b[38;5;28;01mas\u001b[39;00m e:\n",
            "File \u001b[1;32mC:\\Python311\\Lib\\site-packages\\langchain_core\\runnables\\base.py:2692\u001b[0m, in \u001b[0;36mRunnableParallel.invoke\u001b[1;34m(self, input, config)\u001b[0m\n\u001b[0;32m   2679\u001b[0m     \u001b[38;5;28;01mwith\u001b[39;00m get_executor_for_config(config) \u001b[38;5;28;01mas\u001b[39;00m executor:\n\u001b[0;32m   2680\u001b[0m         futures \u001b[38;5;241m=\u001b[39m [\n\u001b[0;32m   2681\u001b[0m             executor\u001b[38;5;241m.\u001b[39msubmit(\n\u001b[0;32m   2682\u001b[0m                 step\u001b[38;5;241m.\u001b[39minvoke,\n\u001b[1;32m   (...)\u001b[0m\n\u001b[0;32m   2690\u001b[0m             \u001b[38;5;28;01mfor\u001b[39;00m key, step \u001b[38;5;129;01min\u001b[39;00m steps\u001b[38;5;241m.\u001b[39mitems()\n\u001b[0;32m   2691\u001b[0m         ]\n\u001b[1;32m-> 2692\u001b[0m         output \u001b[38;5;241m=\u001b[39m \u001b[43m{\u001b[49m\u001b[43mkey\u001b[49m\u001b[43m:\u001b[49m\u001b[43m \u001b[49m\u001b[43mfuture\u001b[49m\u001b[38;5;241;43m.\u001b[39;49m\u001b[43mresult\u001b[49m\u001b[43m(\u001b[49m\u001b[43m)\u001b[49m\u001b[43m \u001b[49m\u001b[38;5;28;43;01mfor\u001b[39;49;00m\u001b[43m \u001b[49m\u001b[43mkey\u001b[49m\u001b[43m,\u001b[49m\u001b[43m \u001b[49m\u001b[43mfuture\u001b[49m\u001b[43m \u001b[49m\u001b[38;5;129;43;01min\u001b[39;49;00m\u001b[43m \u001b[49m\u001b[38;5;28;43mzip\u001b[39;49m\u001b[43m(\u001b[49m\u001b[43msteps\u001b[49m\u001b[43m,\u001b[49m\u001b[43m \u001b[49m\u001b[43mfutures\u001b[49m\u001b[43m)\u001b[49m\u001b[43m}\u001b[49m\n\u001b[0;32m   2693\u001b[0m \u001b[38;5;66;03m# finish the root run\u001b[39;00m\n\u001b[0;32m   2694\u001b[0m \u001b[38;5;28;01mexcept\u001b[39;00m \u001b[38;5;167;01mBaseException\u001b[39;00m \u001b[38;5;28;01mas\u001b[39;00m e:\n",
            "File \u001b[1;32mC:\\Python311\\Lib\\site-packages\\langchain_core\\runnables\\base.py:2692\u001b[0m, in \u001b[0;36m<dictcomp>\u001b[1;34m(.0)\u001b[0m\n\u001b[0;32m   2679\u001b[0m     \u001b[38;5;28;01mwith\u001b[39;00m get_executor_for_config(config) \u001b[38;5;28;01mas\u001b[39;00m executor:\n\u001b[0;32m   2680\u001b[0m         futures \u001b[38;5;241m=\u001b[39m [\n\u001b[0;32m   2681\u001b[0m             executor\u001b[38;5;241m.\u001b[39msubmit(\n\u001b[0;32m   2682\u001b[0m                 step\u001b[38;5;241m.\u001b[39minvoke,\n\u001b[1;32m   (...)\u001b[0m\n\u001b[0;32m   2690\u001b[0m             \u001b[38;5;28;01mfor\u001b[39;00m key, step \u001b[38;5;129;01min\u001b[39;00m steps\u001b[38;5;241m.\u001b[39mitems()\n\u001b[0;32m   2691\u001b[0m         ]\n\u001b[1;32m-> 2692\u001b[0m         output \u001b[38;5;241m=\u001b[39m {key: \u001b[43mfuture\u001b[49m\u001b[38;5;241;43m.\u001b[39;49m\u001b[43mresult\u001b[49m\u001b[43m(\u001b[49m\u001b[43m)\u001b[49m \u001b[38;5;28;01mfor\u001b[39;00m key, future \u001b[38;5;129;01min\u001b[39;00m \u001b[38;5;28mzip\u001b[39m(steps, futures)}\n\u001b[0;32m   2693\u001b[0m \u001b[38;5;66;03m# finish the root run\u001b[39;00m\n\u001b[0;32m   2694\u001b[0m \u001b[38;5;28;01mexcept\u001b[39;00m \u001b[38;5;167;01mBaseException\u001b[39;00m \u001b[38;5;28;01mas\u001b[39;00m e:\n",
            "File \u001b[1;32mC:\\Python311\\Lib\\concurrent\\futures\\_base.py:456\u001b[0m, in \u001b[0;36mFuture.result\u001b[1;34m(self, timeout)\u001b[0m\n\u001b[0;32m    454\u001b[0m     \u001b[38;5;28;01mraise\u001b[39;00m CancelledError()\n\u001b[0;32m    455\u001b[0m \u001b[38;5;28;01melif\u001b[39;00m \u001b[38;5;28mself\u001b[39m\u001b[38;5;241m.\u001b[39m_state \u001b[38;5;241m==\u001b[39m FINISHED:\n\u001b[1;32m--> 456\u001b[0m     \u001b[38;5;28;01mreturn\u001b[39;00m \u001b[38;5;28;43mself\u001b[39;49m\u001b[38;5;241;43m.\u001b[39;49m\u001b[43m__get_result\u001b[49m\u001b[43m(\u001b[49m\u001b[43m)\u001b[49m\n\u001b[0;32m    457\u001b[0m \u001b[38;5;28;01melse\u001b[39;00m:\n\u001b[0;32m    458\u001b[0m     \u001b[38;5;28;01mraise\u001b[39;00m \u001b[38;5;167;01mTimeoutError\u001b[39;00m()\n",
            "File \u001b[1;32mC:\\Python311\\Lib\\concurrent\\futures\\_base.py:401\u001b[0m, in \u001b[0;36mFuture.__get_result\u001b[1;34m(self)\u001b[0m\n\u001b[0;32m    399\u001b[0m \u001b[38;5;28;01mif\u001b[39;00m \u001b[38;5;28mself\u001b[39m\u001b[38;5;241m.\u001b[39m_exception:\n\u001b[0;32m    400\u001b[0m     \u001b[38;5;28;01mtry\u001b[39;00m:\n\u001b[1;32m--> 401\u001b[0m         \u001b[38;5;28;01mraise\u001b[39;00m \u001b[38;5;28mself\u001b[39m\u001b[38;5;241m.\u001b[39m_exception\n\u001b[0;32m    402\u001b[0m     \u001b[38;5;28;01mfinally\u001b[39;00m:\n\u001b[0;32m    403\u001b[0m         \u001b[38;5;66;03m# Break a reference cycle with the exception in self._exception\u001b[39;00m\n\u001b[0;32m    404\u001b[0m         \u001b[38;5;28mself\u001b[39m \u001b[38;5;241m=\u001b[39m \u001b[38;5;28;01mNone\u001b[39;00m\n",
            "File \u001b[1;32mC:\\Python311\\Lib\\concurrent\\futures\\thread.py:58\u001b[0m, in \u001b[0;36m_WorkItem.run\u001b[1;34m(self)\u001b[0m\n\u001b[0;32m     55\u001b[0m     \u001b[38;5;28;01mreturn\u001b[39;00m\n\u001b[0;32m     57\u001b[0m \u001b[38;5;28;01mtry\u001b[39;00m:\n\u001b[1;32m---> 58\u001b[0m     result \u001b[38;5;241m=\u001b[39m \u001b[38;5;28;43mself\u001b[39;49m\u001b[38;5;241;43m.\u001b[39;49m\u001b[43mfn\u001b[49m\u001b[43m(\u001b[49m\u001b[38;5;241;43m*\u001b[39;49m\u001b[38;5;28;43mself\u001b[39;49m\u001b[38;5;241;43m.\u001b[39;49m\u001b[43margs\u001b[49m\u001b[43m,\u001b[49m\u001b[43m \u001b[49m\u001b[38;5;241;43m*\u001b[39;49m\u001b[38;5;241;43m*\u001b[39;49m\u001b[38;5;28;43mself\u001b[39;49m\u001b[38;5;241;43m.\u001b[39;49m\u001b[43mkwargs\u001b[49m\u001b[43m)\u001b[49m\n\u001b[0;32m     59\u001b[0m \u001b[38;5;28;01mexcept\u001b[39;00m \u001b[38;5;167;01mBaseException\u001b[39;00m \u001b[38;5;28;01mas\u001b[39;00m exc:\n\u001b[0;32m     60\u001b[0m     \u001b[38;5;28mself\u001b[39m\u001b[38;5;241m.\u001b[39mfuture\u001b[38;5;241m.\u001b[39mset_exception(exc)\n",
            "File \u001b[1;32mC:\\Python311\\Lib\\site-packages\\langchain_core\\retrievers.py:121\u001b[0m, in \u001b[0;36mBaseRetriever.invoke\u001b[1;34m(self, input, config, **kwargs)\u001b[0m\n\u001b[0;32m    117\u001b[0m \u001b[38;5;28;01mdef\u001b[39;00m \u001b[38;5;21minvoke\u001b[39m(\n\u001b[0;32m    118\u001b[0m     \u001b[38;5;28mself\u001b[39m, \u001b[38;5;28minput\u001b[39m: \u001b[38;5;28mstr\u001b[39m, config: Optional[RunnableConfig] \u001b[38;5;241m=\u001b[39m \u001b[38;5;28;01mNone\u001b[39;00m, \u001b[38;5;241m*\u001b[39m\u001b[38;5;241m*\u001b[39mkwargs: Any\n\u001b[0;32m    119\u001b[0m ) \u001b[38;5;241m-\u001b[39m\u001b[38;5;241m>\u001b[39m List[Document]:\n\u001b[0;32m    120\u001b[0m     config \u001b[38;5;241m=\u001b[39m ensure_config(config)\n\u001b[1;32m--> 121\u001b[0m     \u001b[38;5;28;01mreturn\u001b[39;00m \u001b[38;5;28;43mself\u001b[39;49m\u001b[38;5;241;43m.\u001b[39;49m\u001b[43mget_relevant_documents\u001b[49m\u001b[43m(\u001b[49m\n\u001b[0;32m    122\u001b[0m \u001b[43m        \u001b[49m\u001b[38;5;28;43minput\u001b[39;49m\u001b[43m,\u001b[49m\n\u001b[0;32m    123\u001b[0m \u001b[43m        \u001b[49m\u001b[43mcallbacks\u001b[49m\u001b[38;5;241;43m=\u001b[39;49m\u001b[43mconfig\u001b[49m\u001b[38;5;241;43m.\u001b[39;49m\u001b[43mget\u001b[49m\u001b[43m(\u001b[49m\u001b[38;5;124;43m\"\u001b[39;49m\u001b[38;5;124;43mcallbacks\u001b[39;49m\u001b[38;5;124;43m\"\u001b[39;49m\u001b[43m)\u001b[49m\u001b[43m,\u001b[49m\n\u001b[0;32m    124\u001b[0m \u001b[43m        \u001b[49m\u001b[43mtags\u001b[49m\u001b[38;5;241;43m=\u001b[39;49m\u001b[43mconfig\u001b[49m\u001b[38;5;241;43m.\u001b[39;49m\u001b[43mget\u001b[49m\u001b[43m(\u001b[49m\u001b[38;5;124;43m\"\u001b[39;49m\u001b[38;5;124;43mtags\u001b[39;49m\u001b[38;5;124;43m\"\u001b[39;49m\u001b[43m)\u001b[49m\u001b[43m,\u001b[49m\n\u001b[0;32m    125\u001b[0m \u001b[43m        \u001b[49m\u001b[43mmetadata\u001b[49m\u001b[38;5;241;43m=\u001b[39;49m\u001b[43mconfig\u001b[49m\u001b[38;5;241;43m.\u001b[39;49m\u001b[43mget\u001b[49m\u001b[43m(\u001b[49m\u001b[38;5;124;43m\"\u001b[39;49m\u001b[38;5;124;43mmetadata\u001b[39;49m\u001b[38;5;124;43m\"\u001b[39;49m\u001b[43m)\u001b[49m\u001b[43m,\u001b[49m\n\u001b[0;32m    126\u001b[0m \u001b[43m        \u001b[49m\u001b[43mrun_name\u001b[49m\u001b[38;5;241;43m=\u001b[39;49m\u001b[43mconfig\u001b[49m\u001b[38;5;241;43m.\u001b[39;49m\u001b[43mget\u001b[49m\u001b[43m(\u001b[49m\u001b[38;5;124;43m\"\u001b[39;49m\u001b[38;5;124;43mrun_name\u001b[39;49m\u001b[38;5;124;43m\"\u001b[39;49m\u001b[43m)\u001b[49m\u001b[43m,\u001b[49m\n\u001b[0;32m    127\u001b[0m \u001b[43m        \u001b[49m\u001b[38;5;241;43m*\u001b[39;49m\u001b[38;5;241;43m*\u001b[39;49m\u001b[43mkwargs\u001b[49m\u001b[43m,\u001b[49m\n\u001b[0;32m    128\u001b[0m \u001b[43m    \u001b[49m\u001b[43m)\u001b[49m\n",
            "File \u001b[1;32mC:\\Python311\\Lib\\site-packages\\langchain_core\\retrievers.py:224\u001b[0m, in \u001b[0;36mBaseRetriever.get_relevant_documents\u001b[1;34m(self, query, callbacks, tags, metadata, run_name, **kwargs)\u001b[0m\n\u001b[0;32m    222\u001b[0m \u001b[38;5;28;01mexcept\u001b[39;00m \u001b[38;5;167;01mException\u001b[39;00m \u001b[38;5;28;01mas\u001b[39;00m e:\n\u001b[0;32m    223\u001b[0m     run_manager\u001b[38;5;241m.\u001b[39mon_retriever_error(e)\n\u001b[1;32m--> 224\u001b[0m     \u001b[38;5;28;01mraise\u001b[39;00m e\n\u001b[0;32m    225\u001b[0m \u001b[38;5;28;01melse\u001b[39;00m:\n\u001b[0;32m    226\u001b[0m     run_manager\u001b[38;5;241m.\u001b[39mon_retriever_end(\n\u001b[0;32m    227\u001b[0m         result,\n\u001b[0;32m    228\u001b[0m     )\n",
            "File \u001b[1;32mC:\\Python311\\Lib\\site-packages\\langchain_core\\retrievers.py:217\u001b[0m, in \u001b[0;36mBaseRetriever.get_relevant_documents\u001b[1;34m(self, query, callbacks, tags, metadata, run_name, **kwargs)\u001b[0m\n\u001b[0;32m    215\u001b[0m _kwargs \u001b[38;5;241m=\u001b[39m kwargs \u001b[38;5;28;01mif\u001b[39;00m \u001b[38;5;28mself\u001b[39m\u001b[38;5;241m.\u001b[39m_expects_other_args \u001b[38;5;28;01melse\u001b[39;00m {}\n\u001b[0;32m    216\u001b[0m \u001b[38;5;28;01mif\u001b[39;00m \u001b[38;5;28mself\u001b[39m\u001b[38;5;241m.\u001b[39m_new_arg_supported:\n\u001b[1;32m--> 217\u001b[0m     result \u001b[38;5;241m=\u001b[39m \u001b[38;5;28;43mself\u001b[39;49m\u001b[38;5;241;43m.\u001b[39;49m\u001b[43m_get_relevant_documents\u001b[49m\u001b[43m(\u001b[49m\n\u001b[0;32m    218\u001b[0m \u001b[43m        \u001b[49m\u001b[43mquery\u001b[49m\u001b[43m,\u001b[49m\u001b[43m \u001b[49m\u001b[43mrun_manager\u001b[49m\u001b[38;5;241;43m=\u001b[39;49m\u001b[43mrun_manager\u001b[49m\u001b[43m,\u001b[49m\u001b[43m \u001b[49m\u001b[38;5;241;43m*\u001b[39;49m\u001b[38;5;241;43m*\u001b[39;49m\u001b[43m_kwargs\u001b[49m\n\u001b[0;32m    219\u001b[0m \u001b[43m    \u001b[49m\u001b[43m)\u001b[49m\n\u001b[0;32m    220\u001b[0m \u001b[38;5;28;01melse\u001b[39;00m:\n\u001b[0;32m    221\u001b[0m     result \u001b[38;5;241m=\u001b[39m \u001b[38;5;28mself\u001b[39m\u001b[38;5;241m.\u001b[39m_get_relevant_documents(query, \u001b[38;5;241m*\u001b[39m\u001b[38;5;241m*\u001b[39m_kwargs)\n",
            "File \u001b[1;32mC:\\Python311\\Lib\\site-packages\\langchain_core\\vectorstores.py:654\u001b[0m, in \u001b[0;36mVectorStoreRetriever._get_relevant_documents\u001b[1;34m(self, query, run_manager)\u001b[0m\n\u001b[0;32m    650\u001b[0m \u001b[38;5;28;01mdef\u001b[39;00m \u001b[38;5;21m_get_relevant_documents\u001b[39m(\n\u001b[0;32m    651\u001b[0m     \u001b[38;5;28mself\u001b[39m, query: \u001b[38;5;28mstr\u001b[39m, \u001b[38;5;241m*\u001b[39m, run_manager: CallbackManagerForRetrieverRun\n\u001b[0;32m    652\u001b[0m ) \u001b[38;5;241m-\u001b[39m\u001b[38;5;241m>\u001b[39m List[Document]:\n\u001b[0;32m    653\u001b[0m     \u001b[38;5;28;01mif\u001b[39;00m \u001b[38;5;28mself\u001b[39m\u001b[38;5;241m.\u001b[39msearch_type \u001b[38;5;241m==\u001b[39m \u001b[38;5;124m\"\u001b[39m\u001b[38;5;124msimilarity\u001b[39m\u001b[38;5;124m\"\u001b[39m:\n\u001b[1;32m--> 654\u001b[0m         docs \u001b[38;5;241m=\u001b[39m \u001b[38;5;28;43mself\u001b[39;49m\u001b[38;5;241;43m.\u001b[39;49m\u001b[43mvectorstore\u001b[49m\u001b[38;5;241;43m.\u001b[39;49m\u001b[43msimilarity_search\u001b[49m\u001b[43m(\u001b[49m\u001b[43mquery\u001b[49m\u001b[43m,\u001b[49m\u001b[43m \u001b[49m\u001b[38;5;241;43m*\u001b[39;49m\u001b[38;5;241;43m*\u001b[39;49m\u001b[38;5;28;43mself\u001b[39;49m\u001b[38;5;241;43m.\u001b[39;49m\u001b[43msearch_kwargs\u001b[49m\u001b[43m)\u001b[49m\n\u001b[0;32m    655\u001b[0m     \u001b[38;5;28;01melif\u001b[39;00m \u001b[38;5;28mself\u001b[39m\u001b[38;5;241m.\u001b[39msearch_type \u001b[38;5;241m==\u001b[39m \u001b[38;5;124m\"\u001b[39m\u001b[38;5;124msimilarity_score_threshold\u001b[39m\u001b[38;5;124m\"\u001b[39m:\n\u001b[0;32m    656\u001b[0m         docs_and_similarities \u001b[38;5;241m=\u001b[39m (\n\u001b[0;32m    657\u001b[0m             \u001b[38;5;28mself\u001b[39m\u001b[38;5;241m.\u001b[39mvectorstore\u001b[38;5;241m.\u001b[39msimilarity_search_with_relevance_scores(\n\u001b[0;32m    658\u001b[0m                 query, \u001b[38;5;241m*\u001b[39m\u001b[38;5;241m*\u001b[39m\u001b[38;5;28mself\u001b[39m\u001b[38;5;241m.\u001b[39msearch_kwargs\n\u001b[0;32m    659\u001b[0m             )\n\u001b[0;32m    660\u001b[0m         )\n",
            "File \u001b[1;32mC:\\Python311\\Lib\\site-packages\\langchain_community\\vectorstores\\docarray\\base.py:127\u001b[0m, in \u001b[0;36mDocArrayIndex.similarity_search\u001b[1;34m(self, query, k, **kwargs)\u001b[0m\n\u001b[0;32m    115\u001b[0m \u001b[38;5;28;01mdef\u001b[39;00m \u001b[38;5;21msimilarity_search\u001b[39m(\n\u001b[0;32m    116\u001b[0m     \u001b[38;5;28mself\u001b[39m, query: \u001b[38;5;28mstr\u001b[39m, k: \u001b[38;5;28mint\u001b[39m \u001b[38;5;241m=\u001b[39m \u001b[38;5;241m4\u001b[39m, \u001b[38;5;241m*\u001b[39m\u001b[38;5;241m*\u001b[39mkwargs: Any\n\u001b[0;32m    117\u001b[0m ) \u001b[38;5;241m-\u001b[39m\u001b[38;5;241m>\u001b[39m List[Document]:\n\u001b[0;32m    118\u001b[0m \u001b[38;5;250m    \u001b[39m\u001b[38;5;124;03m\"\"\"Return docs most similar to query.\u001b[39;00m\n\u001b[0;32m    119\u001b[0m \n\u001b[0;32m    120\u001b[0m \u001b[38;5;124;03m    Args:\u001b[39;00m\n\u001b[1;32m   (...)\u001b[0m\n\u001b[0;32m    125\u001b[0m \u001b[38;5;124;03m        List of Documents most similar to the query.\u001b[39;00m\n\u001b[0;32m    126\u001b[0m \u001b[38;5;124;03m    \"\"\"\u001b[39;00m\n\u001b[1;32m--> 127\u001b[0m     results \u001b[38;5;241m=\u001b[39m \u001b[38;5;28;43mself\u001b[39;49m\u001b[38;5;241;43m.\u001b[39;49m\u001b[43msimilarity_search_with_score\u001b[49m\u001b[43m(\u001b[49m\u001b[43mquery\u001b[49m\u001b[43m,\u001b[49m\u001b[43m \u001b[49m\u001b[43mk\u001b[49m\u001b[38;5;241;43m=\u001b[39;49m\u001b[43mk\u001b[49m\u001b[43m,\u001b[49m\u001b[43m \u001b[49m\u001b[38;5;241;43m*\u001b[39;49m\u001b[38;5;241;43m*\u001b[39;49m\u001b[43mkwargs\u001b[49m\u001b[43m)\u001b[49m\n\u001b[0;32m    128\u001b[0m     \u001b[38;5;28;01mreturn\u001b[39;00m [doc \u001b[38;5;28;01mfor\u001b[39;00m doc, _ \u001b[38;5;129;01min\u001b[39;00m results]\n",
            "File \u001b[1;32mC:\\Python311\\Lib\\site-packages\\langchain_community\\vectorstores\\docarray\\base.py:106\u001b[0m, in \u001b[0;36mDocArrayIndex.similarity_search_with_score\u001b[1;34m(self, query, k, **kwargs)\u001b[0m\n\u001b[0;32m     94\u001b[0m \u001b[38;5;250m\u001b[39m\u001b[38;5;124;03m\"\"\"Return docs most similar to query.\u001b[39;00m\n\u001b[0;32m     95\u001b[0m \n\u001b[0;32m     96\u001b[0m \u001b[38;5;124;03mArgs:\u001b[39;00m\n\u001b[1;32m   (...)\u001b[0m\n\u001b[0;32m    103\u001b[0m \u001b[38;5;124;03m    Lower score represents more similarity.\u001b[39;00m\n\u001b[0;32m    104\u001b[0m \u001b[38;5;124;03m\"\"\"\u001b[39;00m\n\u001b[0;32m    105\u001b[0m query_embedding \u001b[38;5;241m=\u001b[39m \u001b[38;5;28mself\u001b[39m\u001b[38;5;241m.\u001b[39membedding\u001b[38;5;241m.\u001b[39membed_query(query)\n\u001b[1;32m--> 106\u001b[0m query_doc \u001b[38;5;241m=\u001b[39m \u001b[38;5;28;43mself\u001b[39;49m\u001b[38;5;241;43m.\u001b[39;49m\u001b[43mdoc_cls\u001b[49m\u001b[43m(\u001b[49m\u001b[43membedding\u001b[49m\u001b[38;5;241;43m=\u001b[39;49m\u001b[43mquery_embedding\u001b[49m\u001b[43m)\u001b[49m  \u001b[38;5;66;03m# type: ignore\u001b[39;00m\n\u001b[0;32m    107\u001b[0m docs, scores \u001b[38;5;241m=\u001b[39m \u001b[38;5;28mself\u001b[39m\u001b[38;5;241m.\u001b[39mdoc_index\u001b[38;5;241m.\u001b[39mfind(query_doc, search_field\u001b[38;5;241m=\u001b[39m\u001b[38;5;124m\"\u001b[39m\u001b[38;5;124membedding\u001b[39m\u001b[38;5;124m\"\u001b[39m, limit\u001b[38;5;241m=\u001b[39mk)\n\u001b[0;32m    109\u001b[0m result \u001b[38;5;241m=\u001b[39m [\n\u001b[0;32m    110\u001b[0m     (Document(page_content\u001b[38;5;241m=\u001b[39mdoc\u001b[38;5;241m.\u001b[39mtext, metadata\u001b[38;5;241m=\u001b[39mdoc\u001b[38;5;241m.\u001b[39mmetadata), score)\n\u001b[0;32m    111\u001b[0m     \u001b[38;5;28;01mfor\u001b[39;00m doc, score \u001b[38;5;129;01min\u001b[39;00m \u001b[38;5;28mzip\u001b[39m(docs, scores)\n\u001b[0;32m    112\u001b[0m ]\n",
            "File \u001b[1;32mC:\\Python311\\Lib\\site-packages\\pydantic\\main.py:171\u001b[0m, in \u001b[0;36mBaseModel.__init__\u001b[1;34m(self, **data)\u001b[0m\n\u001b[0;32m    169\u001b[0m \u001b[38;5;66;03m# `__tracebackhide__` tells pytest and some other tools to omit this function from tracebacks\u001b[39;00m\n\u001b[0;32m    170\u001b[0m __tracebackhide__ \u001b[38;5;241m=\u001b[39m \u001b[38;5;28;01mTrue\u001b[39;00m\n\u001b[1;32m--> 171\u001b[0m \u001b[38;5;28;43mself\u001b[39;49m\u001b[38;5;241;43m.\u001b[39;49m\u001b[43m__pydantic_validator__\u001b[49m\u001b[38;5;241;43m.\u001b[39;49m\u001b[43mvalidate_python\u001b[49m\u001b[43m(\u001b[49m\u001b[43mdata\u001b[49m\u001b[43m,\u001b[49m\u001b[43m \u001b[49m\u001b[43mself_instance\u001b[49m\u001b[38;5;241;43m=\u001b[39;49m\u001b[38;5;28;43mself\u001b[39;49m\u001b[43m)\u001b[49m\n",
            "\u001b[1;31mValidationError\u001b[0m: 2 validation errors for DocArrayDoc\ntext\n  Field required [type=missing, input_value={'embedding': [-0.0191128..., 0.010052215411752113]}, input_type=dict]\n    For further information visit https://errors.pydantic.dev/2.6/v/missing\nmetadata\n  Field required [type=missing, input_value={'embedding': [-0.0191128..., 0.010052215411752113]}, input_type=dict]\n    For further information visit https://errors.pydantic.dev/2.6/v/missing"
          ]
        }
      ],
      "source": [
        "# Requires:\n",
        "# pip install langchain docarray tiktoken\n",
        "\n",
        "from langchain_community.vectorstores import DocArrayInMemorySearch\n",
        "from langchain_core.output_parsers import StrOutputParser\n",
        "from langchain_core.prompts import ChatPromptTemplate\n",
        "from langchain_core.runnables import RunnableParallel, RunnablePassthrough\n",
        "from langchain_openai.chat_models import ChatOpenAI\n",
        "from langchain_openai.embeddings import OpenAIEmbeddings\n",
        "\n",
        "vectorstore = DocArrayInMemorySearch.from_texts(\n",
        "    [\"harrison worked at kensho\", \"bears like to eat honey\"],\n",
        "    embedding=OpenAIEmbeddings(),\n",
        ")\n",
        "retriever = vectorstore.as_retriever()\n",
        "\n",
        "template = \"\"\"Answer the question based only on the following context:\n",
        "{context}\n",
        "\n",
        "Question: {question}\n",
        "\"\"\"\n",
        "prompt = ChatPromptTemplate.from_template(template)\n",
        "model = ChatOpenAI()\n",
        "output_parser = StrOutputParser()\n",
        "\n",
        "setup_and_retrieval = RunnableParallel(\n",
        "    {\"context\": retriever, \"question\": RunnablePassthrough()}\n",
        ")\n",
        "chain = setup_and_retrieval | prompt | model | output_parser\n",
        "\n",
        "chain.invoke(\"where did harrison work?\")"
      ]
    },
    {
      "cell_type": "markdown",
      "metadata": {
        "id": "r_Xzq5IXXGYh"
      },
      "source": [
        "### Interface"
      ]
    },
    {
      "cell_type": "code",
      "execution_count": null,
      "metadata": {
        "id": "OwJKFVxVXGYh"
      },
      "outputs": [],
      "source": [
        "from langchain_core.prompts import ChatPromptTemplate\n",
        "from langchain_openai import ChatOpenAI\n",
        "\n",
        "model = ChatOpenAI()\n",
        "prompt = ChatPromptTemplate.from_template(\"tell me a joke about {topic}\")\n",
        "chain = prompt | model"
      ]
    },
    {
      "cell_type": "code",
      "execution_count": null,
      "metadata": {
        "id": "WvsZGZRoXGYh",
        "outputId": "8eba80cd-b45a-40b9-c921-954ee34bdbc1"
      },
      "outputs": [
        {
          "data": {
            "text/plain": [
              "{'title': 'PromptInput',\n",
              " 'type': 'object',\n",
              " 'properties': {'topic': {'title': 'Topic', 'type': 'string'}}}"
            ]
          },
          "execution_count": 29,
          "metadata": {},
          "output_type": "execute_result"
        }
      ],
      "source": [
        "chain.input_schema.schema()"
      ]
    },
    {
      "cell_type": "code",
      "execution_count": null,
      "metadata": {
        "id": "y2iU3lWNXGYi",
        "outputId": "2b4d14e9-d1c2-4bcb-9512-fb01082873d4"
      },
      "outputs": [
        {
          "data": {
            "text/plain": [
              "{'title': 'PromptInput',\n",
              " 'type': 'object',\n",
              " 'properties': {'topic': {'title': 'Topic', 'type': 'string'}}}"
            ]
          },
          "execution_count": 30,
          "metadata": {},
          "output_type": "execute_result"
        }
      ],
      "source": [
        "prompt.input_schema.schema()"
      ]
    },
    {
      "cell_type": "code",
      "execution_count": null,
      "metadata": {
        "id": "lbbt96ZkXGYi",
        "outputId": "41e654cd-f5ea-436b-f1f5-7ceffbfcc0ed"
      },
      "outputs": [
        {
          "data": {
            "text/plain": [
              "{'title': 'ChatOpenAIInput',\n",
              " 'anyOf': [{'type': 'string'},\n",
              "  {'$ref': '#/definitions/StringPromptValue'},\n",
              "  {'$ref': '#/definitions/ChatPromptValueConcrete'},\n",
              "  {'type': 'array',\n",
              "   'items': {'anyOf': [{'$ref': '#/definitions/AIMessage'},\n",
              "     {'$ref': '#/definitions/HumanMessage'},\n",
              "     {'$ref': '#/definitions/ChatMessage'},\n",
              "     {'$ref': '#/definitions/SystemMessage'},\n",
              "     {'$ref': '#/definitions/FunctionMessage'},\n",
              "     {'$ref': '#/definitions/ToolMessage'}]}}],\n",
              " 'definitions': {'StringPromptValue': {'title': 'StringPromptValue',\n",
              "   'description': 'String prompt value.',\n",
              "   'type': 'object',\n",
              "   'properties': {'text': {'title': 'Text', 'type': 'string'},\n",
              "    'type': {'title': 'Type',\n",
              "     'default': 'StringPromptValue',\n",
              "     'enum': ['StringPromptValue'],\n",
              "     'type': 'string'}},\n",
              "   'required': ['text']},\n",
              "  'AIMessage': {'title': 'AIMessage',\n",
              "   'description': 'A Message from an AI.',\n",
              "   'type': 'object',\n",
              "   'properties': {'content': {'title': 'Content',\n",
              "     'anyOf': [{'type': 'string'},\n",
              "      {'type': 'array',\n",
              "       'items': {'anyOf': [{'type': 'string'}, {'type': 'object'}]}}]},\n",
              "    'additional_kwargs': {'title': 'Additional Kwargs', 'type': 'object'},\n",
              "    'type': {'title': 'Type',\n",
              "     'default': 'ai',\n",
              "     'enum': ['ai'],\n",
              "     'type': 'string'},\n",
              "    'example': {'title': 'Example', 'default': False, 'type': 'boolean'}},\n",
              "   'required': ['content']},\n",
              "  'HumanMessage': {'title': 'HumanMessage',\n",
              "   'description': 'A Message from a human.',\n",
              "   'type': 'object',\n",
              "   'properties': {'content': {'title': 'Content',\n",
              "     'anyOf': [{'type': 'string'},\n",
              "      {'type': 'array',\n",
              "       'items': {'anyOf': [{'type': 'string'}, {'type': 'object'}]}}]},\n",
              "    'additional_kwargs': {'title': 'Additional Kwargs', 'type': 'object'},\n",
              "    'type': {'title': 'Type',\n",
              "     'default': 'human',\n",
              "     'enum': ['human'],\n",
              "     'type': 'string'},\n",
              "    'example': {'title': 'Example', 'default': False, 'type': 'boolean'}},\n",
              "   'required': ['content']},\n",
              "  'ChatMessage': {'title': 'ChatMessage',\n",
              "   'description': 'A Message that can be assigned an arbitrary speaker (i.e. role).',\n",
              "   'type': 'object',\n",
              "   'properties': {'content': {'title': 'Content',\n",
              "     'anyOf': [{'type': 'string'},\n",
              "      {'type': 'array',\n",
              "       'items': {'anyOf': [{'type': 'string'}, {'type': 'object'}]}}]},\n",
              "    'additional_kwargs': {'title': 'Additional Kwargs', 'type': 'object'},\n",
              "    'type': {'title': 'Type',\n",
              "     'default': 'chat',\n",
              "     'enum': ['chat'],\n",
              "     'type': 'string'},\n",
              "    'role': {'title': 'Role', 'type': 'string'}},\n",
              "   'required': ['content', 'role']},\n",
              "  'SystemMessage': {'title': 'SystemMessage',\n",
              "   'description': 'A Message for priming AI behavior, usually passed in as the first of a sequence\\nof input messages.',\n",
              "   'type': 'object',\n",
              "   'properties': {'content': {'title': 'Content',\n",
              "     'anyOf': [{'type': 'string'},\n",
              "      {'type': 'array',\n",
              "       'items': {'anyOf': [{'type': 'string'}, {'type': 'object'}]}}]},\n",
              "    'additional_kwargs': {'title': 'Additional Kwargs', 'type': 'object'},\n",
              "    'type': {'title': 'Type',\n",
              "     'default': 'system',\n",
              "     'enum': ['system'],\n",
              "     'type': 'string'}},\n",
              "   'required': ['content']},\n",
              "  'FunctionMessage': {'title': 'FunctionMessage',\n",
              "   'description': 'A Message for passing the result of executing a function back to a model.',\n",
              "   'type': 'object',\n",
              "   'properties': {'content': {'title': 'Content',\n",
              "     'anyOf': [{'type': 'string'},\n",
              "      {'type': 'array',\n",
              "       'items': {'anyOf': [{'type': 'string'}, {'type': 'object'}]}}]},\n",
              "    'additional_kwargs': {'title': 'Additional Kwargs', 'type': 'object'},\n",
              "    'type': {'title': 'Type',\n",
              "     'default': 'function',\n",
              "     'enum': ['function'],\n",
              "     'type': 'string'},\n",
              "    'name': {'title': 'Name', 'type': 'string'}},\n",
              "   'required': ['content', 'name']},\n",
              "  'ToolMessage': {'title': 'ToolMessage',\n",
              "   'description': 'A Message for passing the result of executing a tool back to a model.',\n",
              "   'type': 'object',\n",
              "   'properties': {'content': {'title': 'Content',\n",
              "     'anyOf': [{'type': 'string'},\n",
              "      {'type': 'array',\n",
              "       'items': {'anyOf': [{'type': 'string'}, {'type': 'object'}]}}]},\n",
              "    'additional_kwargs': {'title': 'Additional Kwargs', 'type': 'object'},\n",
              "    'type': {'title': 'Type',\n",
              "     'default': 'tool',\n",
              "     'enum': ['tool'],\n",
              "     'type': 'string'},\n",
              "    'tool_call_id': {'title': 'Tool Call Id', 'type': 'string'}},\n",
              "   'required': ['content', 'tool_call_id']},\n",
              "  'ChatPromptValueConcrete': {'title': 'ChatPromptValueConcrete',\n",
              "   'description': 'Chat prompt value which explicitly lists out the message types it accepts.\\nFor use in external schemas.',\n",
              "   'type': 'object',\n",
              "   'properties': {'messages': {'title': 'Messages',\n",
              "     'type': 'array',\n",
              "     'items': {'anyOf': [{'$ref': '#/definitions/AIMessage'},\n",
              "       {'$ref': '#/definitions/HumanMessage'},\n",
              "       {'$ref': '#/definitions/ChatMessage'},\n",
              "       {'$ref': '#/definitions/SystemMessage'},\n",
              "       {'$ref': '#/definitions/FunctionMessage'},\n",
              "       {'$ref': '#/definitions/ToolMessage'}]}},\n",
              "    'type': {'title': 'Type',\n",
              "     'default': 'ChatPromptValueConcrete',\n",
              "     'enum': ['ChatPromptValueConcrete'],\n",
              "     'type': 'string'}},\n",
              "   'required': ['messages']}}}"
            ]
          },
          "execution_count": 32,
          "metadata": {},
          "output_type": "execute_result"
        }
      ],
      "source": [
        "model.input_schema.schema()"
      ]
    },
    {
      "cell_type": "code",
      "execution_count": null,
      "metadata": {
        "id": "Bhf6dfTjXGYi",
        "outputId": "dac4fe3f-fb6f-40ef-a3fb-567779c92e8d"
      },
      "outputs": [
        {
          "data": {
            "text/plain": [
              "{'title': 'ChatOpenAIOutput',\n",
              " 'anyOf': [{'$ref': '#/definitions/AIMessage'},\n",
              "  {'$ref': '#/definitions/HumanMessage'},\n",
              "  {'$ref': '#/definitions/ChatMessage'},\n",
              "  {'$ref': '#/definitions/SystemMessage'},\n",
              "  {'$ref': '#/definitions/FunctionMessage'},\n",
              "  {'$ref': '#/definitions/ToolMessage'}],\n",
              " 'definitions': {'AIMessage': {'title': 'AIMessage',\n",
              "   'description': 'A Message from an AI.',\n",
              "   'type': 'object',\n",
              "   'properties': {'content': {'title': 'Content',\n",
              "     'anyOf': [{'type': 'string'},\n",
              "      {'type': 'array',\n",
              "       'items': {'anyOf': [{'type': 'string'}, {'type': 'object'}]}}]},\n",
              "    'additional_kwargs': {'title': 'Additional Kwargs', 'type': 'object'},\n",
              "    'type': {'title': 'Type',\n",
              "     'default': 'ai',\n",
              "     'enum': ['ai'],\n",
              "     'type': 'string'},\n",
              "    'example': {'title': 'Example', 'default': False, 'type': 'boolean'}},\n",
              "   'required': ['content']},\n",
              "  'HumanMessage': {'title': 'HumanMessage',\n",
              "   'description': 'A Message from a human.',\n",
              "   'type': 'object',\n",
              "   'properties': {'content': {'title': 'Content',\n",
              "     'anyOf': [{'type': 'string'},\n",
              "      {'type': 'array',\n",
              "       'items': {'anyOf': [{'type': 'string'}, {'type': 'object'}]}}]},\n",
              "    'additional_kwargs': {'title': 'Additional Kwargs', 'type': 'object'},\n",
              "    'type': {'title': 'Type',\n",
              "     'default': 'human',\n",
              "     'enum': ['human'],\n",
              "     'type': 'string'},\n",
              "    'example': {'title': 'Example', 'default': False, 'type': 'boolean'}},\n",
              "   'required': ['content']},\n",
              "  'ChatMessage': {'title': 'ChatMessage',\n",
              "   'description': 'A Message that can be assigned an arbitrary speaker (i.e. role).',\n",
              "   'type': 'object',\n",
              "   'properties': {'content': {'title': 'Content',\n",
              "     'anyOf': [{'type': 'string'},\n",
              "      {'type': 'array',\n",
              "       'items': {'anyOf': [{'type': 'string'}, {'type': 'object'}]}}]},\n",
              "    'additional_kwargs': {'title': 'Additional Kwargs', 'type': 'object'},\n",
              "    'type': {'title': 'Type',\n",
              "     'default': 'chat',\n",
              "     'enum': ['chat'],\n",
              "     'type': 'string'},\n",
              "    'role': {'title': 'Role', 'type': 'string'}},\n",
              "   'required': ['content', 'role']},\n",
              "  'SystemMessage': {'title': 'SystemMessage',\n",
              "   'description': 'A Message for priming AI behavior, usually passed in as the first of a sequence\\nof input messages.',\n",
              "   'type': 'object',\n",
              "   'properties': {'content': {'title': 'Content',\n",
              "     'anyOf': [{'type': 'string'},\n",
              "      {'type': 'array',\n",
              "       'items': {'anyOf': [{'type': 'string'}, {'type': 'object'}]}}]},\n",
              "    'additional_kwargs': {'title': 'Additional Kwargs', 'type': 'object'},\n",
              "    'type': {'title': 'Type',\n",
              "     'default': 'system',\n",
              "     'enum': ['system'],\n",
              "     'type': 'string'}},\n",
              "   'required': ['content']},\n",
              "  'FunctionMessage': {'title': 'FunctionMessage',\n",
              "   'description': 'A Message for passing the result of executing a function back to a model.',\n",
              "   'type': 'object',\n",
              "   'properties': {'content': {'title': 'Content',\n",
              "     'anyOf': [{'type': 'string'},\n",
              "      {'type': 'array',\n",
              "       'items': {'anyOf': [{'type': 'string'}, {'type': 'object'}]}}]},\n",
              "    'additional_kwargs': {'title': 'Additional Kwargs', 'type': 'object'},\n",
              "    'type': {'title': 'Type',\n",
              "     'default': 'function',\n",
              "     'enum': ['function'],\n",
              "     'type': 'string'},\n",
              "    'name': {'title': 'Name', 'type': 'string'}},\n",
              "   'required': ['content', 'name']},\n",
              "  'ToolMessage': {'title': 'ToolMessage',\n",
              "   'description': 'A Message for passing the result of executing a tool back to a model.',\n",
              "   'type': 'object',\n",
              "   'properties': {'content': {'title': 'Content',\n",
              "     'anyOf': [{'type': 'string'},\n",
              "      {'type': 'array',\n",
              "       'items': {'anyOf': [{'type': 'string'}, {'type': 'object'}]}}]},\n",
              "    'additional_kwargs': {'title': 'Additional Kwargs', 'type': 'object'},\n",
              "    'type': {'title': 'Type',\n",
              "     'default': 'tool',\n",
              "     'enum': ['tool'],\n",
              "     'type': 'string'},\n",
              "    'tool_call_id': {'title': 'Tool Call Id', 'type': 'string'}},\n",
              "   'required': ['content', 'tool_call_id']}}}"
            ]
          },
          "execution_count": 33,
          "metadata": {},
          "output_type": "execute_result"
        }
      ],
      "source": [
        "chain.output_schema.schema()"
      ]
    },
    {
      "cell_type": "code",
      "execution_count": null,
      "metadata": {
        "id": "YqFXDCwwXGYi",
        "outputId": "5a0d0321-3568-4e1b-927d-6e0c91ca880d"
      },
      "outputs": [
        {
          "name": "stdout",
          "output_type": "stream",
          "text": [
            "Why don't bears like fast food?\n",
            "\n",
            "Because they can't catch it!"
          ]
        }
      ],
      "source": [
        "for s in chain.stream({\"topic\": \"bears\"}):\n",
        "    print(s.content, end=\"\", flush=True)"
      ]
    },
    {
      "cell_type": "code",
      "execution_count": null,
      "metadata": {
        "id": "7LyuFVesXGYj",
        "outputId": "385718c2-7203-45c8-e548-62e7757ec6c2"
      },
      "outputs": [
        {
          "data": {
            "text/plain": [
              "AIMessage(content=\"Why don't bears wear shoes?\\n\\nBecause they have bear feet!\")"
            ]
          },
          "execution_count": 35,
          "metadata": {},
          "output_type": "execute_result"
        }
      ],
      "source": [
        "chain.invoke({\"topic\": \"bears\"})"
      ]
    },
    {
      "cell_type": "code",
      "execution_count": null,
      "metadata": {
        "id": "qaHXK4KRXGYj",
        "outputId": "77c64b51-2513-4ae5-e473-181547481ce2"
      },
      "outputs": [
        {
          "data": {
            "text/plain": [
              "[AIMessage(content=\"Why don't bears wear shoes?\\n\\nBecause they have bear feet!\"),\n",
              " AIMessage(content=\"Why don't cats play poker in the wild? Too many cheetahs!\")]"
            ]
          },
          "execution_count": 36,
          "metadata": {},
          "output_type": "execute_result"
        }
      ],
      "source": [
        "chain.batch([{\"topic\": \"bears\"}, {\"topic\": \"cats\"}])"
      ]
    },
    {
      "cell_type": "code",
      "execution_count": null,
      "metadata": {
        "id": "l-VKwtOWXGYj",
        "outputId": "bdbed83f-bb2f-4fe5-a42f-a452059f074a"
      },
      "outputs": [
        {
          "name": "stdout",
          "output_type": "stream",
          "text": [
            "Why don't bears wear shoes?\n",
            "\n",
            "Because they already have bear feet!"
          ]
        }
      ],
      "source": [
        "async for s in chain.astream({\"topic\": \"bears\"}):\n",
        "    print(s.content, end=\"\", flush=True)"
      ]
    },
    {
      "cell_type": "code",
      "execution_count": null,
      "metadata": {
        "id": "t8w9oEC-XGYj",
        "outputId": "0f054d2a-7a10-45e5-e5e7-bc8548a6a53b"
      },
      "outputs": [
        {
          "data": {
            "text/plain": [
              "AIMessage(content=\"Why don't bears ever wear shoes?\\n\\nBecause they have bear feet!\")"
            ]
          },
          "execution_count": 38,
          "metadata": {},
          "output_type": "execute_result"
        }
      ],
      "source": [
        "await chain.ainvoke({\"topic\": \"bears\"})"
      ]
    },
    {
      "cell_type": "code",
      "execution_count": null,
      "metadata": {
        "id": "o0cwFGjnXGYk",
        "outputId": "c74ef6bc-1604-4625-fee9-0081ef3c52ad"
      },
      "outputs": [
        {
          "data": {
            "text/plain": [
              "[AIMessage(content=\"Why don't bears wear shoes?\\n\\nBecause they have bear feet!\")]"
            ]
          },
          "execution_count": 39,
          "metadata": {},
          "output_type": "execute_result"
        }
      ],
      "source": [
        "await chain.abatch([{\"topic\": \"bears\"}])"
      ]
    },
    {
      "cell_type": "code",
      "execution_count": null,
      "metadata": {
        "id": "jXL2PvpEXGYk"
      },
      "outputs": [],
      "source": []
    }
  ],
  "metadata": {
    "colab": {
      "provenance": [],
      "include_colab_link": true
    },
    "kernelspec": {
      "display_name": "Python 3 (ipykernel)",
      "language": "python",
      "name": "python3"
    },
    "language_info": {
      "codemirror_mode": {
        "name": "ipython",
        "version": 3
      },
      "file_extension": ".py",
      "mimetype": "text/x-python",
      "name": "python",
      "nbconvert_exporter": "python",
      "pygments_lexer": "ipython3",
      "version": "3.11.8"
    }
  },
  "nbformat": 4,
  "nbformat_minor": 0
}